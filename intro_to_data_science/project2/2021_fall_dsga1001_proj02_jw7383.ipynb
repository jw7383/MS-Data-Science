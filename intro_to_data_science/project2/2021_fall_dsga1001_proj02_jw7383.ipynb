{
 "cells": [
  {
   "cell_type": "markdown",
   "id": "3f900d55",
   "metadata": {},
   "source": [
    "### NYU CDS\n",
    "\n",
    "### Fall 2021\n",
    "\n",
    "### Introduction to Data Science\n",
    "\n",
    "### Project 2\n",
    "\n",
    "### student netid: jw7383\n",
    "\n",
    "### deadline: Dec 06, 2021, 11:59pm"
   ]
  },
  {
   "cell_type": "markdown",
   "id": "e2efce3b",
   "metadata": {},
   "source": [
    "---\n",
    "# Data analysis Project 2\n",
    "### Correlation and Regression of Movie Ratings Data\n",
    "---"
   ]
  },
  {
   "cell_type": "markdown",
   "id": "40016032",
   "metadata": {},
   "source": [
    "### Dataset description\n",
    "\n",
    "This dataset features ratings data of 400 movies from 1097 research participants. \n",
    "\n",
    "* 1st row: Headers (Movie titles/questions) – note that the indexing in this list is from 1\n",
    "* Row 2-1098: Responses from individual participants\n",
    "* Columns 1-400: These columns contain the ratings for the 400 movies (0 to 4, and missing)\n",
    "* Columns 401-421: These columns contain self-assessments on sensation seeking behaviors (1-5)\n",
    "* Columns 422-464: These columns contain responses to personality questions (1-5)\n",
    "* Columns 465-474: These columns contain self-reported movie experience ratings (1-5)\n",
    "* Column 475: Gender identity (1 = female, 2 = male, 3 = self-described)\n",
    "* Column 476: Only child (1 = yes, 0 = no, -1 = no response)\n",
    "* Column 477: Movies are best enjoyed alone (1 = yes, 0 = no, -1 = no response)\n",
    "\n",
    "Note that we did most of the data munging for you already (e.g. Python interprets commas in a csv file as separators, so we removed all commas from movie titles), but you still need to handle missing data."
   ]
  },
  {
   "cell_type": "markdown",
   "id": "4ac1869d",
   "metadata": {},
   "source": [
    "\n",
    "\n",
    "\n",
    "### Q1:\n",
    "\n",
    "\n",
    "**Note:** For all missing values in the data, use the average of the corresponding column so to fill in the missing data. \n",
    "\n",
    "\n",
    "\n",
    "In this problem, under **the most correlated**, we consider the largest correlation in the absolute value.\n",
    "\n",
    "\n",
    "1.1. For every user in the given data, find its most correlated user. \n",
    "\n",
    "1.2. What is the pair of the most correlated users in the data? \n",
    "\n",
    "1.3. What is the value of this highest correlation?\n",
    "\n",
    "1.4. For users 0, 1, 2, \\dots, 9, print their most correlated users. \n",
    "\n"
   ]
  },
  {
   "cell_type": "code",
   "execution_count": 1,
   "id": "058bc05e",
   "metadata": {},
   "outputs": [],
   "source": [
    "# Import packages\n",
    "import numpy as np\n",
    "import pandas as pd\n",
    "import matplotlib.pyplot as plt\n",
    "\n",
    "# Import ratings data\n",
    "data = pd.read_csv('movieReplicationSet.csv', delimiter = ',', usecols = list(range(400)))\n",
    "\n",
    "# Fill NA's with their column mean\n",
    "column_means = data.mean()\n",
    "data = data.fillna(column_means)"
   ]
  },
  {
   "cell_type": "code",
   "execution_count": 2,
   "id": "6fdffb2a",
   "metadata": {},
   "outputs": [],
   "source": [
    "# Calculate correlation matrix\n",
    "corr_matrix = data.transpose().corr()\n",
    "\n",
    "# Take the absolute value of the matrix to yield correlation magnitude\n",
    "corr_matrix = corr_matrix.abs()\n",
    "\n",
    "# Set the diagonals to 0\n",
    "corr_matrix.values[tuple([np.arange(corr_matrix.shape[0])]*2)] = 0\n",
    "\n",
    "# Now each user's most correlated user is the maximum value in its row\n",
    "most_correlated_users = corr_matrix.idxmax()"
   ]
  },
  {
   "cell_type": "code",
   "execution_count": 3,
   "id": "f3078c42",
   "metadata": {},
   "outputs": [
    {
     "data": {
      "text/html": [
       "<div>\n",
       "<style scoped>\n",
       "    .dataframe tbody tr th:only-of-type {\n",
       "        vertical-align: middle;\n",
       "    }\n",
       "\n",
       "    .dataframe tbody tr th {\n",
       "        vertical-align: top;\n",
       "    }\n",
       "\n",
       "    .dataframe thead th {\n",
       "        text-align: right;\n",
       "    }\n",
       "</style>\n",
       "<table border=\"1\" class=\"dataframe\">\n",
       "  <thead>\n",
       "    <tr style=\"text-align: right;\">\n",
       "      <th></th>\n",
       "      <th>0</th>\n",
       "      <th>1</th>\n",
       "      <th>2</th>\n",
       "      <th>3</th>\n",
       "      <th>4</th>\n",
       "      <th>5</th>\n",
       "      <th>6</th>\n",
       "      <th>7</th>\n",
       "      <th>8</th>\n",
       "      <th>9</th>\n",
       "      <th>...</th>\n",
       "      <th>1087</th>\n",
       "      <th>1088</th>\n",
       "      <th>1089</th>\n",
       "      <th>1090</th>\n",
       "      <th>1091</th>\n",
       "      <th>1092</th>\n",
       "      <th>1093</th>\n",
       "      <th>1094</th>\n",
       "      <th>1095</th>\n",
       "      <th>1096</th>\n",
       "    </tr>\n",
       "  </thead>\n",
       "  <tbody>\n",
       "    <tr>\n",
       "      <th>0</th>\n",
       "      <td>118</td>\n",
       "      <td>831</td>\n",
       "      <td>896</td>\n",
       "      <td>19</td>\n",
       "      <td>784</td>\n",
       "      <td>990</td>\n",
       "      <td>1071</td>\n",
       "      <td>1074</td>\n",
       "      <td>821</td>\n",
       "      <td>1004</td>\n",
       "      <td>...</td>\n",
       "      <td>1048</td>\n",
       "      <td>818</td>\n",
       "      <td>352</td>\n",
       "      <td>896</td>\n",
       "      <td>896</td>\n",
       "      <td>896</td>\n",
       "      <td>784</td>\n",
       "      <td>896</td>\n",
       "      <td>896</td>\n",
       "      <td>710</td>\n",
       "    </tr>\n",
       "  </tbody>\n",
       "</table>\n",
       "<p>1 rows × 1097 columns</p>\n",
       "</div>"
      ],
      "text/plain": [
       "   0     1     2     3     4     5     6     7     8     9     ...  1087  \\\n",
       "0   118   831   896    19   784   990  1071  1074   821  1004  ...  1048   \n",
       "\n",
       "   1088  1089  1090  1091  1092  1093  1094  1095  1096  \n",
       "0   818   352   896   896   896   784   896   896   710  \n",
       "\n",
       "[1 rows x 1097 columns]"
      ]
     },
     "execution_count": 3,
     "metadata": {},
     "output_type": "execute_result"
    }
   ],
   "source": [
    "# Print each user's most correlated user\n",
    "pd.DataFrame(most_correlated_users).T"
   ]
  },
  {
   "cell_type": "code",
   "execution_count": 4,
   "id": "e42bf571",
   "metadata": {},
   "outputs": [
    {
     "name": "stdout",
     "output_type": "stream",
     "text": [
      "The pair of most correlated users are users 831 and 896\n"
     ]
    }
   ],
   "source": [
    "# Calculate each user's maximum correlation\n",
    "max_corr = corr_matrix.max()\n",
    "\n",
    "# Find the pair of most correlated users\n",
    "user1 = max_corr.idxmax()\n",
    "user2 = most_correlated_users[user1]\n",
    "print(f\"The pair of most correlated users are users {user1} and {user2}\")"
   ]
  },
  {
   "cell_type": "code",
   "execution_count": 5,
   "id": "473b4460",
   "metadata": {},
   "outputs": [
    {
     "name": "stdout",
     "output_type": "stream",
     "text": [
      "Their max correlation is 0.9987890924779799\n"
     ]
    }
   ],
   "source": [
    "# Print the max correlation\n",
    "print(f\"Their max correlation is {max_corr.max()}\")"
   ]
  },
  {
   "cell_type": "code",
   "execution_count": 6,
   "id": "c1be515c",
   "metadata": {},
   "outputs": [
    {
     "name": "stdout",
     "output_type": "stream",
     "text": [
      "For the first 10 users, their most correlated user is:\n"
     ]
    },
    {
     "data": {
      "text/plain": [
       "0     118\n",
       "1     831\n",
       "2     896\n",
       "3      19\n",
       "4     784\n",
       "5     990\n",
       "6    1071\n",
       "7    1074\n",
       "8     821\n",
       "9    1004\n",
       "dtype: int64"
      ]
     },
     "execution_count": 6,
     "metadata": {},
     "output_type": "execute_result"
    }
   ],
   "source": [
    "# Print the most correlated user for the first 10 users\n",
    "print(\"For the first 10 users, their most correlated user is:\")\n",
    "most_correlated_users.head(10)"
   ]
  },
  {
   "cell_type": "markdown",
   "id": "422467bb",
   "metadata": {},
   "source": [
    "### Q2:\n",
    "\n",
    "We want to find a model between the ratings and the personal part of the data. To do so, consider:\n",
    "\n",
    "\n",
    "**Part 1**: the ratings of all users over columns 1-400: \n",
    "\n",
    "-- Columns 1-400: These columns contain the ratings for the 400 movies (0 to 4, and missing);\n",
    "\n",
    "call this part `df_rate`\n",
    "\n",
    "\n",
    "and \n",
    "\n",
    "\n",
    "**Part 2**:  the part of the data which includes all users over columns 401-474\n",
    "\n",
    "-- Columns 401-421: These columns contain self-assessments on sensation seeking behaviors (1-5)\n",
    "\n",
    "-- Columns 422-464: These columns contain responses to personality questions (1-5)\n",
    "\n",
    "-- Columns 465-474: These columns contain self-reported movie experience ratings (1-5)\n",
    "\n",
    "call this part `df_pers`.\n",
    "\n",
    "---\n",
    "\n",
    "Our main task is to model: \n",
    "\n",
    "\n",
    "`df_pers = function(df_rate)`\n",
    "\n",
    "\n",
    "---\n",
    "\n",
    "**Note:** Split the original data into training and testing as the ratio 0.80: 0.20. \n",
    "\n",
    "\n",
    "2.1. Model `df_pers = function(df_rate)` by using the linear regression. \n",
    "\n",
    "What are the errors on: (i) the training part; (ii) the testing part?\n",
    "\n",
    "\n",
    "\n",
    "\n",
    "2.2. Model `df_pers = function(df_rate)` by using the ridge regression with hyperparamter values alpha from [0.0, 1e-8, 1e-5, 0.1, 1, 10]. \n",
    "\n",
    "For every of the previous values for alpha, what are the errors on: (i) the training part; (ii) the testing part?\n",
    "\n",
    "What is a best choice for alpha?\n",
    "\n",
    "\n",
    "\n",
    "2.3. Model `df_pers = function(df_rate)` by using the lasso regression with hyperparamter values alpha from [1e-3, 1e-2, 1e-1, 1]. \n",
    "\n",
    "For every of the previous values for alpha, what are the errors on: (i) the training part; (ii) the testing part?\n",
    "\n",
    "What is a best choice for alpha?\n",
    "\n",
    "\n",
    "**Note**: Ignore any `convergence warning` in case you may obtain in the Lasso regression.\n",
    "\n",
    "\n"
   ]
  },
  {
   "cell_type": "code",
   "execution_count": 7,
   "id": "47e0c7cc",
   "metadata": {},
   "outputs": [],
   "source": [
    "# Import packages\n",
    "from sklearn.model_selection import train_test_split\n",
    "from sklearn import linear_model\n",
    "from sklearn.metrics import mean_squared_error\n",
    "\n",
    "# Import df_rate and fill NA's with their column means\n",
    "df_rate = pd.read_csv('movieReplicationSet.csv', delimiter = ',', usecols = list(range(400)))\n",
    "df_rate = df_rate.fillna(df_rate.mean())\n",
    "\n",
    "# Import df_pers and fill NA's with their column means\n",
    "df_pers = pd.read_csv('movieReplicationSet.csv', delimiter = ',', usecols = list(range(400,474)))\n",
    "df_pers = df_pers.fillna(df_pers.mean())\n",
    "\n",
    "# Split data into training and testing\n",
    "X_train, X_test, y_train, y_test = train_test_split(df_rate, df_pers, test_size = 0.2, random_state = 42)"
   ]
  },
  {
   "cell_type": "code",
   "execution_count": 8,
   "id": "b1739720",
   "metadata": {},
   "outputs": [
    {
     "name": "stdout",
     "output_type": "stream",
     "text": [
      "Mean squared error of the training part:  0.6127612374234508\n",
      "Mean squared error of the testing part:  3.2509647714851004\n"
     ]
    }
   ],
   "source": [
    "# Train the model using the training sets\n",
    "reg = linear_model.LinearRegression()\n",
    "reg.fit(X_train, y_train)\n",
    "\n",
    "# Make predictions using the df_rate training set\n",
    "y_pred_train = reg.predict(X_train)\n",
    "\n",
    "# Calculate and print mean squared error of the training prediction\n",
    "error_train = mean_squared_error(y_train, y_pred_train)\n",
    "print('Mean squared error of the training part: ', error_train)\n",
    "\n",
    "# Make predictions using the df_rate testing set\n",
    "y_pred_test = reg.predict(X_test)\n",
    "\n",
    "# Calculate and print mean squared error of the test prediction\n",
    "error_test = mean_squared_error(y_test, y_pred_test)\n",
    "print('Mean squared error of the testing part: ', error_test)\n"
   ]
  },
  {
   "cell_type": "code",
   "execution_count": 9,
   "id": "0869bdcc",
   "metadata": {},
   "outputs": [
    {
     "name": "stdout",
     "output_type": "stream",
     "text": [
      "Alpha:  0.0\n",
      "Mean squared error of the training part:  0.612761237423451\n",
      "Mean squared error of the testing part:  3.250964771485107\n",
      "--------------------------------------------------------------------------------\n",
      "Alpha:  1e-08\n",
      "Mean squared error of the training part:  0.612761237423451\n",
      "Mean squared error of the testing part:  3.2509647623208475\n",
      "--------------------------------------------------------------------------------\n",
      "Alpha:  1e-05\n",
      "Mean squared error of the training part:  0.6127612374246642\n",
      "Mean squared error of the testing part:  3.250955607294799\n",
      "--------------------------------------------------------------------------------\n",
      "Alpha:  0.1\n",
      "Mean squared error of the training part:  0.6128675474638947\n",
      "Mean squared error of the testing part:  3.1661276597976653\n",
      "--------------------------------------------------------------------------------\n",
      "Alpha:  1\n",
      "Mean squared error of the training part:  0.6176596189954012\n",
      "Mean squared error of the testing part:  2.7184407366356185\n",
      "--------------------------------------------------------------------------------\n",
      "Alpha:  10\n",
      "Mean squared error of the training part:  0.6681063711453811\n",
      "Mean squared error of the testing part:  1.8932122756432563\n",
      "--------------------------------------------------------------------------------\n"
     ]
    }
   ],
   "source": [
    "# List of alphas\n",
    "ridge_alphas = [0.0, 1e-8, 1e-5, 0.1, 1, 10]\n",
    "ridge_error_train = []\n",
    "ridge_error_test = []\n",
    "\n",
    "# Loop through alphas\n",
    "for alpha in ridge_alphas:\n",
    "    \n",
    "    # Train ridge regression model using the training sets\n",
    "    clf = linear_model.Ridge(alpha)\n",
    "    clf.fit(X_train, y_train)\n",
    "    \n",
    "    # Make predictions using the df_rate training set\n",
    "    y_pred_train = clf.predict(X_train)\n",
    "    \n",
    "    # Calculate mean squared error of the training prediction\n",
    "    error_train = mean_squared_error(y_train, y_pred_train)\n",
    "    ridge_error_train.append(error_train)\n",
    "    \n",
    "    # Make predictions using the df_rate testing set\n",
    "    y_pred_test = clf.predict(X_test)\n",
    "    \n",
    "    # Calculate mean squared error of the test prediction\n",
    "    error_test = mean_squared_error(y_test, y_pred_test)\n",
    "    ridge_error_test.append(error_test)\n",
    "    \n",
    "    # Print error results\n",
    "    print('Alpha: ', alpha)\n",
    "    print('Mean squared error of the training part: ', error_train)\n",
    "    print('Mean squared error of the testing part: ', error_test)\n",
    "    print('-'*80)"
   ]
  },
  {
   "cell_type": "code",
   "execution_count": 10,
   "id": "fb712b5c",
   "metadata": {},
   "outputs": [
    {
     "data": {
      "image/png": "[encoded data removed]",
      "text/plain": [
       "<Figure size 432x288 with 1 Axes>"
      ]
     },
     "metadata": {
      "needs_background": "light"
     },
     "output_type": "display_data"
    }
   ],
   "source": [
    "# Plotting train and test MSE vs alpha on log scale\n",
    "fig = plt.figure()\n",
    "plt.plot(ridge_alphas, ridge_error_train, '-x', label = 'train')\n",
    "plt.plot(ridge_alphas, ridge_error_test, '-x', label = 'test')\n",
    "plt.xlabel('alpha')\n",
    "plt.ylabel('MSE')\n",
    "plt.title('Ridge Regression Mean Squared Errors')\n",
    "plt.legend()\n",
    "plt.xscale('log')"
   ]
  },
  {
   "cell_type": "markdown",
   "id": "7e6a5df0",
   "metadata": {},
   "source": [
    "The optimal choice of alpha among the ones given is alpha = 10 because alpha = 10 has the lowest MSE on the testing part, so it implies that this model has the best bias-variance tradeoff."
   ]
  },
  {
   "cell_type": "code",
   "execution_count": 11,
   "id": "bd8cd556",
   "metadata": {},
   "outputs": [
    {
     "name": "stdout",
     "output_type": "stream",
     "text": [
      "Alpha:  0.001\n",
      "Mean squared error of the training part:  0.6359078007727818\n",
      "Mean squared error of the testing part:  2.280496045757267\n",
      "--------------------------------------------------------------------------------\n",
      "Alpha:  0.01\n",
      "Mean squared error of the training part:  0.8932351906143894\n",
      "Mean squared error of the testing part:  1.3742334226815167\n",
      "--------------------------------------------------------------------------------\n",
      "Alpha:  0.1\n",
      "Mean squared error of the training part:  1.210230986955849\n",
      "Mean squared error of the testing part:  1.2534246581541626\n",
      "--------------------------------------------------------------------------------\n",
      "Alpha:  1\n",
      "Mean squared error of the training part:  1.2261539571148226\n",
      "Mean squared error of the testing part:  1.2646356285936624\n",
      "--------------------------------------------------------------------------------\n"
     ]
    }
   ],
   "source": [
    "# List of alphas\n",
    "lasso_alphas = [1e-3, 1e-2, 1e-1, 1]\n",
    "lasso_error_train = []\n",
    "lasso_error_test = []\n",
    "\n",
    "# Loop through alphas\n",
    "for alpha in lasso_alphas:\n",
    "    \n",
    "    # Train lasso regression model using the training sets\n",
    "    clf = linear_model.Lasso(alpha)\n",
    "    clf.fit(X_train, y_train)\n",
    "    \n",
    "    # Make predictions using the df_rate training set\n",
    "    y_pred_train = clf.predict(X_train)\n",
    "    \n",
    "    # Calculate mean squared error of the training prediction\n",
    "    error_train = mean_squared_error(y_train, y_pred_train)\n",
    "    lasso_error_train.append(error_train)\n",
    "    \n",
    "    # Make predictions using the df_rate testing set\n",
    "    y_pred_test = clf.predict(X_test)\n",
    "    \n",
    "    # Calculate mean squared error of the test prediction\n",
    "    error_test = mean_squared_error(y_test, y_pred_test)\n",
    "    lasso_error_test.append(error_test)\n",
    "    \n",
    "    # Print error results\n",
    "    print('Alpha: ', alpha)\n",
    "    print('Mean squared error of the training part: ', error_train)\n",
    "    print('Mean squared error of the testing part: ', error_test)\n",
    "    print('-'*80)"
   ]
  },
  {
   "cell_type": "code",
   "execution_count": 12,
   "id": "19466993",
   "metadata": {},
   "outputs": [
    {
     "data": {
      "image/png": "[encoded data removed]",
      "text/plain": [
       "<Figure size 432x288 with 1 Axes>"
      ]
     },
     "metadata": {
      "needs_background": "light"
     },
     "output_type": "display_data"
    }
   ],
   "source": [
    "# Plotting train and test MSE vs alpha on log scale\n",
    "fig = plt.figure()\n",
    "plt.plot(lasso_alphas, lasso_error_train, '-x', label = 'train')\n",
    "plt.plot(lasso_alphas, lasso_error_test, '-x', label = 'test')\n",
    "plt.xlabel('alpha')\n",
    "plt.ylabel('MSE')\n",
    "plt.title('Lasso Regression Mean Squared Errors')\n",
    "plt.legend()\n",
    "plt.xscale('log')"
   ]
  },
  {
   "cell_type": "markdown",
   "id": "5d5930b1",
   "metadata": {},
   "source": [
    "The optimal choice of alpha among the ones given is alpha = 0.1 because it minimizes the MSE on the testing part, also implying that it yields a model with the best bias-variance tradeoff."
   ]
  }
 ],
 "metadata": {
  "kernelspec": {
   "display_name": "Python 3 (ipykernel)",
   "language": "python",
   "name": "python3"
  },
  "language_info": {
   "codemirror_mode": {
    "name": "ipython",
    "version": 3
   },
   "file_extension": ".py",
   "mimetype": "text/x-python",
   "name": "python",
   "nbconvert_exporter": "python",
   "pygments_lexer": "ipython3",
   "version": "3.9.7"
  }
 },
 "nbformat": 4,
 "nbformat_minor": 5
}
