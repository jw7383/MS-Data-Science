{
 "cells": [
  {
   "cell_type": "code",
   "execution_count": 1,
   "id": "de9e825e",
   "metadata": {},
   "outputs": [],
   "source": [
    "import numpy as np\n",
    "import pandas as pd\n",
    "import matplotlib.pyplot as plt\n",
    "from sklearn.decomposition import PCA\n",
    "from sklearn.cluster import KMeans\n",
    "from sklearn.metrics import silhouette_score"
   ]
  },
  {
   "cell_type": "code",
   "execution_count": 2,
   "id": "d9731002",
   "metadata": {},
   "outputs": [
    {
     "data": {
      "text/plain": [
       "Is talkative                                                                                                                                               12\n",
       "Tends to find fault with others                                                                                                                            15\n",
       "Does a thorough job                                                                                                                                        18\n",
       "Is depressed/Blue                                                                                                                                          14\n",
       "Is original/comes up with new ideas                                                                                                                        17\n",
       "Is reserved                                                                                                                                                16\n",
       "Is helpful and unselfish with others                                                                                                                       17\n",
       "Can be somewhat careless                                                                                                                                   12\n",
       "Is relaxed/handles stress well                                                                                                                             17\n",
       "Is curious about many different things                                                                                                                     14\n",
       "Is full of energy                                                                                                                                          13\n",
       "Starts quarrels with others                                                                                                                                12\n",
       "Is a reliable worker                                                                                                                                       18\n",
       "Can be tense                                                                                                                                               16\n",
       "Is ingenious/a deep thinker                                                                                                                                16\n",
       "Generates a lot of Enthusiasm                                                                                                                              12\n",
       "Has a forgiving nature                                                                                                                                     13\n",
       "Tends to be disorganized                                                                                                                                   13\n",
       "Worries a lot                                                                                                                                              13\n",
       "Has an active imagination                                                                                                                                  13\n",
       "Tends to be quiet                                                                                                                                          14\n",
       "Is generally trusting                                                                                                                                      12\n",
       "Tends to be lazy                                                                                                                                           17\n",
       "Is emotionally stable/not easily upset                                                                                                                     13\n",
       "is inventive                                                                                                                                               13\n",
       "Has an assertive personality                                                                                                                               14\n",
       "Can be cold and aloof                                                                                                                                      13\n",
       "Perseveres until the task is finished                                                                                                                      16\n",
       "Can be moody                                                                                                                                               15\n",
       "Values artistic/aesthetic experiences                                                                                                                      12\n",
       "Is sometimes shy/inhibited                                                                                                                                 16\n",
       "Is considerate and kind to almost everyone                                                                                                                 14\n",
       "Does things efficiently                                                                                                                                    14\n",
       "Remains calm in tense situations                                                                                                                           13\n",
       "Prefers work that is routine                                                                                                                               14\n",
       "is outgoing/sociable                                                                                                                                       14\n",
       "Is sometimes rude to others                                                                                                                                13\n",
       "Makes plans and follows through with them                                                                                                                  13\n",
       "Gets nervous easily                                                                                                                                        14\n",
       "Likes to reflect/play with ideas                                                                                                                           15\n",
       "Has few artistic interests                                                                                                                                 14\n",
       "Likes to cooperate with others                                                                                                                             15\n",
       "Is easily distracted                                                                                                                                       12\n",
       "Is sophisticated in art or music or literature                                                                                                             15\n",
       "I have cried during a movie                                                                                                                                17\n",
       "I have trouble following the story of a movie                                                                                                              22\n",
       "I have trouble remembering the story of a movie a couple of days after seeing it                                                                           22\n",
       "When watching a movie I cheer or shout or talk or curse at the screen                                                                                      20\n",
       "When watching a movie I feel like the things on the screen are happening to me                                                                             24\n",
       "As a movie unfolds I start to have problems keeping track of events that happened earlier                                                                  19\n",
       "The emotions on the screen \"rub off\" on me - for instance if something sad is happening I get sad or if something frightening is happening I get scared    22\n",
       "When watching a movie I get completely immersed in the alternative reality of the film                                                                     23\n",
       "Movies change my position on social economic or political issues                                                                                           20\n",
       "When watching movies things get so intense that I have to stop watching                                                                                    18\n",
       "dtype: int64"
      ]
     },
     "execution_count": 2,
     "metadata": {},
     "output_type": "execute_result"
    }
   ],
   "source": [
    "# Read data\n",
    "data = pd.read_csv('movieReplicationSet.csv', delimiter = ',')\n",
    "df = data.iloc[:,420:474]\n",
    "df.isna().sum() # Check NAs"
   ]
  },
  {
   "cell_type": "code",
   "execution_count": 3,
   "id": "9452db21",
   "metadata": {},
   "outputs": [],
   "source": [
    "# Fill NAs with median and normalize\n",
    "df = df.fillna(df.median())\n",
    "scaled_df=df - df.mean()"
   ]
  },
  {
   "cell_type": "code",
   "execution_count": 4,
   "id": "0aa5bffd",
   "metadata": {},
   "outputs": [
    {
     "data": {
      "text/html": [
       "<div>\n",
       "<style scoped>\n",
       "    .dataframe tbody tr th:only-of-type {\n",
       "        vertical-align: middle;\n",
       "    }\n",
       "\n",
       "    .dataframe tbody tr th {\n",
       "        vertical-align: top;\n",
       "    }\n",
       "\n",
       "    .dataframe thead th {\n",
       "        text-align: right;\n",
       "    }\n",
       "</style>\n",
       "<table border=\"1\" class=\"dataframe\">\n",
       "  <thead>\n",
       "    <tr style=\"text-align: right;\">\n",
       "      <th></th>\n",
       "      <th>Is talkative</th>\n",
       "      <th>Tends to find fault with others</th>\n",
       "      <th>Does a thorough job</th>\n",
       "      <th>Is depressed/Blue</th>\n",
       "      <th>Is original/comes up with new ideas</th>\n",
       "      <th>Is reserved</th>\n",
       "      <th>Is helpful and unselfish with others</th>\n",
       "      <th>Can be somewhat careless</th>\n",
       "      <th>Is relaxed/handles stress well</th>\n",
       "      <th>Is curious about many different things</th>\n",
       "      <th>...</th>\n",
       "      <th>I have cried during a movie</th>\n",
       "      <th>I have trouble following the story of a movie</th>\n",
       "      <th>I have trouble remembering the story of a movie a couple of days after seeing it</th>\n",
       "      <th>When watching a movie I cheer or shout or talk or curse at the screen</th>\n",
       "      <th>When watching a movie I feel like the things on the screen are happening to me</th>\n",
       "      <th>As a movie unfolds I start to have problems keeping track of events that happened earlier</th>\n",
       "      <th>The emotions on the screen \"rub off\" on me - for instance if something sad is happening I get sad or if something frightening is happening I get scared</th>\n",
       "      <th>When watching a movie I get completely immersed in the alternative reality of the film</th>\n",
       "      <th>Movies change my position on social economic or political issues</th>\n",
       "      <th>When watching movies things get so intense that I have to stop watching</th>\n",
       "    </tr>\n",
       "  </thead>\n",
       "  <tbody>\n",
       "    <tr>\n",
       "      <th>0</th>\n",
       "      <td>-2.385597</td>\n",
       "      <td>-1.140383</td>\n",
       "      <td>-0.048314</td>\n",
       "      <td>1.229717</td>\n",
       "      <td>0.396536</td>\n",
       "      <td>1.602552</td>\n",
       "      <td>-1.834093</td>\n",
       "      <td>-0.287147</td>\n",
       "      <td>2.083865</td>\n",
       "      <td>-3.168642</td>\n",
       "      <td>...</td>\n",
       "      <td>-0.909754</td>\n",
       "      <td>1.26618</td>\n",
       "      <td>-1.654512</td>\n",
       "      <td>-1.767548</td>\n",
       "      <td>2.90155</td>\n",
       "      <td>-0.230629</td>\n",
       "      <td>0.542388</td>\n",
       "      <td>0.74567</td>\n",
       "      <td>1.686418</td>\n",
       "      <td>-1.156791</td>\n",
       "    </tr>\n",
       "    <tr>\n",
       "      <th>1</th>\n",
       "      <td>-1.385597</td>\n",
       "      <td>-0.140383</td>\n",
       "      <td>-0.048314</td>\n",
       "      <td>-1.770283</td>\n",
       "      <td>-0.603464</td>\n",
       "      <td>1.602552</td>\n",
       "      <td>-0.834093</td>\n",
       "      <td>0.712853</td>\n",
       "      <td>0.083865</td>\n",
       "      <td>-1.168642</td>\n",
       "      <td>...</td>\n",
       "      <td>1.090246</td>\n",
       "      <td>0.26618</td>\n",
       "      <td>-1.654512</td>\n",
       "      <td>0.232452</td>\n",
       "      <td>-2.09845</td>\n",
       "      <td>-1.230629</td>\n",
       "      <td>1.542388</td>\n",
       "      <td>0.74567</td>\n",
       "      <td>-0.313582</td>\n",
       "      <td>-0.156791</td>\n",
       "    </tr>\n",
       "    <tr>\n",
       "      <th>2</th>\n",
       "      <td>0.614403</td>\n",
       "      <td>-1.140383</td>\n",
       "      <td>-0.048314</td>\n",
       "      <td>-0.770283</td>\n",
       "      <td>-0.603464</td>\n",
       "      <td>-0.397448</td>\n",
       "      <td>0.165907</td>\n",
       "      <td>0.712853</td>\n",
       "      <td>-0.916135</td>\n",
       "      <td>-0.168642</td>\n",
       "      <td>...</td>\n",
       "      <td>0.090246</td>\n",
       "      <td>0.26618</td>\n",
       "      <td>-1.654512</td>\n",
       "      <td>2.232452</td>\n",
       "      <td>0.90155</td>\n",
       "      <td>0.769371</td>\n",
       "      <td>0.542388</td>\n",
       "      <td>0.74567</td>\n",
       "      <td>0.686418</td>\n",
       "      <td>1.843209</td>\n",
       "    </tr>\n",
       "    <tr>\n",
       "      <th>3</th>\n",
       "      <td>1.614403</td>\n",
       "      <td>-0.140383</td>\n",
       "      <td>0.951686</td>\n",
       "      <td>1.229717</td>\n",
       "      <td>1.396536</td>\n",
       "      <td>-0.397448</td>\n",
       "      <td>0.165907</td>\n",
       "      <td>-2.287147</td>\n",
       "      <td>-0.916135</td>\n",
       "      <td>0.831358</td>\n",
       "      <td>...</td>\n",
       "      <td>0.090246</td>\n",
       "      <td>-1.73382</td>\n",
       "      <td>-1.654512</td>\n",
       "      <td>0.232452</td>\n",
       "      <td>-2.09845</td>\n",
       "      <td>-1.230629</td>\n",
       "      <td>-0.457612</td>\n",
       "      <td>0.74567</td>\n",
       "      <td>-0.313582</td>\n",
       "      <td>-1.156791</td>\n",
       "    </tr>\n",
       "    <tr>\n",
       "      <th>4</th>\n",
       "      <td>0.614403</td>\n",
       "      <td>0.859617</td>\n",
       "      <td>-0.048314</td>\n",
       "      <td>1.229717</td>\n",
       "      <td>-1.603464</td>\n",
       "      <td>-0.397448</td>\n",
       "      <td>0.165907</td>\n",
       "      <td>0.712853</td>\n",
       "      <td>-0.916135</td>\n",
       "      <td>-0.168642</td>\n",
       "      <td>...</td>\n",
       "      <td>0.090246</td>\n",
       "      <td>0.26618</td>\n",
       "      <td>1.345488</td>\n",
       "      <td>-0.767548</td>\n",
       "      <td>-0.09845</td>\n",
       "      <td>-0.230629</td>\n",
       "      <td>0.542388</td>\n",
       "      <td>1.74567</td>\n",
       "      <td>0.686418</td>\n",
       "      <td>1.843209</td>\n",
       "    </tr>\n",
       "  </tbody>\n",
       "</table>\n",
       "<p>5 rows × 54 columns</p>\n",
       "</div>"
      ],
      "text/plain": [
       "   Is talkative  Tends to find fault with others  Does a thorough job  \\\n",
       "0     -2.385597                        -1.140383            -0.048314   \n",
       "1     -1.385597                        -0.140383            -0.048314   \n",
       "2      0.614403                        -1.140383            -0.048314   \n",
       "3      1.614403                        -0.140383             0.951686   \n",
       "4      0.614403                         0.859617            -0.048314   \n",
       "\n",
       "   Is depressed/Blue  Is original/comes up with new ideas  Is reserved  \\\n",
       "0           1.229717                             0.396536     1.602552   \n",
       "1          -1.770283                            -0.603464     1.602552   \n",
       "2          -0.770283                            -0.603464    -0.397448   \n",
       "3           1.229717                             1.396536    -0.397448   \n",
       "4           1.229717                            -1.603464    -0.397448   \n",
       "\n",
       "   Is helpful and unselfish with others  Can be somewhat careless  \\\n",
       "0                             -1.834093                 -0.287147   \n",
       "1                             -0.834093                  0.712853   \n",
       "2                              0.165907                  0.712853   \n",
       "3                              0.165907                 -2.287147   \n",
       "4                              0.165907                  0.712853   \n",
       "\n",
       "   Is relaxed/handles stress well  Is curious about many different things  \\\n",
       "0                        2.083865                               -3.168642   \n",
       "1                        0.083865                               -1.168642   \n",
       "2                       -0.916135                               -0.168642   \n",
       "3                       -0.916135                                0.831358   \n",
       "4                       -0.916135                               -0.168642   \n",
       "\n",
       "   ...  I have cried during a movie  \\\n",
       "0  ...                    -0.909754   \n",
       "1  ...                     1.090246   \n",
       "2  ...                     0.090246   \n",
       "3  ...                     0.090246   \n",
       "4  ...                     0.090246   \n",
       "\n",
       "   I have trouble following the story of a movie  \\\n",
       "0                                        1.26618   \n",
       "1                                        0.26618   \n",
       "2                                        0.26618   \n",
       "3                                       -1.73382   \n",
       "4                                        0.26618   \n",
       "\n",
       "   I have trouble remembering the story of a movie a couple of days after seeing it  \\\n",
       "0                                          -1.654512                                  \n",
       "1                                          -1.654512                                  \n",
       "2                                          -1.654512                                  \n",
       "3                                          -1.654512                                  \n",
       "4                                           1.345488                                  \n",
       "\n",
       "   When watching a movie I cheer or shout or talk or curse at the screen  \\\n",
       "0                                          -1.767548                       \n",
       "1                                           0.232452                       \n",
       "2                                           2.232452                       \n",
       "3                                           0.232452                       \n",
       "4                                          -0.767548                       \n",
       "\n",
       "   When watching a movie I feel like the things on the screen are happening to me  \\\n",
       "0                                            2.90155                                \n",
       "1                                           -2.09845                                \n",
       "2                                            0.90155                                \n",
       "3                                           -2.09845                                \n",
       "4                                           -0.09845                                \n",
       "\n",
       "   As a movie unfolds I start to have problems keeping track of events that happened earlier  \\\n",
       "0                                          -0.230629                                           \n",
       "1                                          -1.230629                                           \n",
       "2                                           0.769371                                           \n",
       "3                                          -1.230629                                           \n",
       "4                                          -0.230629                                           \n",
       "\n",
       "   The emotions on the screen \"rub off\" on me - for instance if something sad is happening I get sad or if something frightening is happening I get scared  \\\n",
       "0                                           0.542388                                                                                                         \n",
       "1                                           1.542388                                                                                                         \n",
       "2                                           0.542388                                                                                                         \n",
       "3                                          -0.457612                                                                                                         \n",
       "4                                           0.542388                                                                                                         \n",
       "\n",
       "   When watching a movie I get completely immersed in the alternative reality of the film  \\\n",
       "0                                            0.74567                                        \n",
       "1                                            0.74567                                        \n",
       "2                                            0.74567                                        \n",
       "3                                            0.74567                                        \n",
       "4                                            1.74567                                        \n",
       "\n",
       "   Movies change my position on social economic or political issues  \\\n",
       "0                                           1.686418                  \n",
       "1                                          -0.313582                  \n",
       "2                                           0.686418                  \n",
       "3                                          -0.313582                  \n",
       "4                                           0.686418                  \n",
       "\n",
       "   When watching movies things get so intense that I have to stop watching  \n",
       "0                                          -1.156791                        \n",
       "1                                          -0.156791                        \n",
       "2                                           1.843209                        \n",
       "3                                          -1.156791                        \n",
       "4                                           1.843209                        \n",
       "\n",
       "[5 rows x 54 columns]"
      ]
     },
     "execution_count": 4,
     "metadata": {},
     "output_type": "execute_result"
    }
   ],
   "source": [
    "scaled_df.head()"
   ]
  },
  {
   "cell_type": "code",
   "execution_count": 5,
   "id": "650cc8ea",
   "metadata": {},
   "outputs": [
    {
     "data": {
      "text/plain": [
       "PCA(n_components=54)"
      ]
     },
     "execution_count": 5,
     "metadata": {},
     "output_type": "execute_result"
    }
   ],
   "source": [
    "# PCA\n",
    "pca = PCA(n_components = 54)\n",
    "pca.fit(scaled_df)"
   ]
  },
  {
   "cell_type": "code",
   "execution_count": 6,
   "id": "70e9cd83",
   "metadata": {},
   "outputs": [
    {
     "name": "stdout",
     "output_type": "stream",
     "text": [
      "[7.32280624 6.12254935 4.09292255 3.51284321 3.18983397 2.64942489\n",
      " 2.57829921 2.05658127 1.71940293 1.4007611  1.36462177 1.21832736\n",
      " 1.15866455 1.11160856 1.01411373 0.99578887 0.94797005 0.93626647\n",
      " 0.87675864 0.85426756 0.82699079 0.7798828  0.77699919 0.74607798\n",
      " 0.72040439 0.71164541 0.68799709 0.66915781 0.65146201 0.64126864\n",
      " 0.6050736  0.60051378 0.5780626  0.57091369 0.5422789  0.53706064\n",
      " 0.52041624 0.50073759 0.48300896 0.45992897 0.44976413 0.42317587\n",
      " 0.41435301 0.40298551 0.39558706 0.38819029 0.35354339 0.34552255\n",
      " 0.32976086 0.32201917 0.29865053 0.28981917 0.28084779 0.23569373]\n"
     ]
    }
   ],
   "source": [
    "print(pca.explained_variance_)"
   ]
  },
  {
   "cell_type": "code",
   "execution_count": 7,
   "id": "f839300d",
   "metadata": {},
   "outputs": [
    {
     "data": {
      "image/png": "[encoded data removed]",
      "text/plain": [
       "<Figure size 432x288 with 1 Axes>"
      ]
     },
     "metadata": {
      "needs_background": "light"
     },
     "output_type": "display_data"
    }
   ],
   "source": [
    "# Scree plot\n",
    "PC_values = np.arange(pca.n_components_) + 1\n",
    "plt.plot(PC_values, pca.explained_variance_, 'o-')\n",
    "plt.title('Scree Plot')\n",
    "plt.xlabel('Principal Component')\n",
    "plt.ylabel('Eigenvalue')\n",
    "plt.show()"
   ]
  },
  {
   "cell_type": "code",
   "execution_count": 8,
   "id": "9ec0e397",
   "metadata": {},
   "outputs": [],
   "source": [
    "# Create Loadings Matrix\n",
    "pca = PCA(n_components = 2)\n",
    "pca.fit(scaled_df)\n",
    "loadings = pca.components_.T\n",
    "loading_matrix = pd.DataFrame(loadings, columns=['PC1', 'PC2'])"
   ]
  },
  {
   "cell_type": "code",
   "execution_count": 9,
   "id": "dc3a073f",
   "metadata": {},
   "outputs": [
    {
     "data": {
      "image/png": "[encoded data removed]",
      "text/plain": [
       "<Figure size 1440x432 with 1 Axes>"
      ]
     },
     "metadata": {
      "needs_background": "light"
     },
     "output_type": "display_data"
    },
    {
     "data": {
      "image/png": "[encoded data removed]",
      "text/plain": [
       "<Figure size 1440x432 with 1 Axes>"
      ]
     },
     "metadata": {
      "needs_background": "light"
     },
     "output_type": "display_data"
    }
   ],
   "source": [
    "#Plot loadings for each principal component\n",
    "for pc in loading_matrix.columns:\n",
    "    fig = plt.figure(figsize = (20,6))\n",
    "    plt.bar(PC_values,loading_matrix[pc])\n",
    "    plt.xlabel('Question')\n",
    "    plt.ylabel('Loading Magnitude')\n",
    "    plt.xticks(PC_values)\n",
    "    plt.title(pc)\n",
    "    plt.show()"
   ]
  },
  {
   "cell_type": "code",
   "execution_count": 10,
   "id": "77f10c45",
   "metadata": {},
   "outputs": [
    {
     "data": {
      "text/plain": [
       "Index(['Is depressed/Blue', 'Tends to be quiet'], dtype='object')"
      ]
     },
     "execution_count": 10,
     "metadata": {},
     "output_type": "execute_result"
    }
   ],
   "source": [
    "# Check PC1 most positive loadings\n",
    "scaled_df.columns[[3,20]]"
   ]
  },
  {
   "cell_type": "code",
   "execution_count": 11,
   "id": "02a99982",
   "metadata": {},
   "outputs": [
    {
     "data": {
      "text/plain": [
       "Index(['Is full of energy', 'is outgoing/sociable'], dtype='object')"
      ]
     },
     "execution_count": 11,
     "metadata": {},
     "output_type": "execute_result"
    }
   ],
   "source": [
    "# Check PC1 most negative loadings\n",
    "scaled_df.columns[[10,35]]"
   ]
  },
  {
   "cell_type": "code",
   "execution_count": 12,
   "id": "65a4a026",
   "metadata": {},
   "outputs": [
    {
     "data": {
      "text/plain": [
       "Index(['I have cried during a movie',\n",
       "       'When watching a movie I cheer or shout or talk or curse at the screen',\n",
       "       'When watching a movie I feel like the things on the screen are happening to me',\n",
       "       'The emotions on the screen \"rub off\" on me - for instance if something sad is happening I get sad or if something frightening is happening I get scared',\n",
       "       'When watching a movie I get completely immersed in the alternative reality of the film',\n",
       "       'Movies change my position on social economic or political issues',\n",
       "       'When watching movies things get so intense that I have to stop watching'],\n",
       "      dtype='object')"
      ]
     },
     "execution_count": 12,
     "metadata": {},
     "output_type": "execute_result"
    }
   ],
   "source": [
    "# Check PC2 most negative loadings\n",
    "scaled_df.columns[[44,47,48,50,51,52,53]]"
   ]
  },
  {
   "cell_type": "code",
   "execution_count": 13,
   "id": "5523360f",
   "metadata": {},
   "outputs": [],
   "source": [
    "# Rotate data\n",
    "rotatedData = pca.fit_transform(scaled_df)\n",
    "rotatedData_df = pd.DataFrame(rotatedData, columns=['PC1', 'PC2'])"
   ]
  },
  {
   "cell_type": "code",
   "execution_count": 14,
   "id": "e458173d",
   "metadata": {},
   "outputs": [
    {
     "data": {
      "text/plain": [
       "Text(0, 0.5, 'PC2')"
      ]
     },
     "execution_count": 14,
     "metadata": {},
     "output_type": "execute_result"
    },
    {
     "data": {
      "image/png": "[encoded data removed]",
      "text/plain": [
       "<Figure size 432x288 with 1 Axes>"
      ]
     },
     "metadata": {
      "needs_background": "light"
     },
     "output_type": "display_data"
    }
   ],
   "source": [
    "# Plot rotated data\n",
    "plt.plot(rotatedData_df['PC1'], rotatedData_df['PC2'], 'o')\n",
    "plt.xlabel('PC1')\n",
    "plt.ylabel('PC2')"
   ]
  },
  {
   "cell_type": "code",
   "execution_count": 15,
   "id": "f10570f5",
   "metadata": {},
   "outputs": [],
   "source": [
    "X = rotatedData_df\n",
    "scores = []\n",
    "\n",
    "# Compute silhouette score for 2 to 14 clusters:\n",
    "for ii in range(2, 15):\n",
    "    kMeans = KMeans(n_clusters = int(ii)).fit(X) # compute kMeans\n",
    "    s = silhouette_score(X, kMeans.labels_)\n",
    "    scores.append(s)"
   ]
  },
  {
   "cell_type": "code",
   "execution_count": 16,
   "id": "9bd4ab84",
   "metadata": {},
   "outputs": [
    {
     "data": {
      "text/html": [
       "<div>\n",
       "<style scoped>\n",
       "    .dataframe tbody tr th:only-of-type {\n",
       "        vertical-align: middle;\n",
       "    }\n",
       "\n",
       "    .dataframe tbody tr th {\n",
       "        vertical-align: top;\n",
       "    }\n",
       "\n",
       "    .dataframe thead th {\n",
       "        text-align: right;\n",
       "    }\n",
       "</style>\n",
       "<table border=\"1\" class=\"dataframe\">\n",
       "  <thead>\n",
       "    <tr style=\"text-align: right;\">\n",
       "      <th></th>\n",
       "      <th>2</th>\n",
       "      <th>3</th>\n",
       "      <th>4</th>\n",
       "      <th>5</th>\n",
       "      <th>6</th>\n",
       "      <th>7</th>\n",
       "      <th>8</th>\n",
       "      <th>9</th>\n",
       "      <th>10</th>\n",
       "      <th>11</th>\n",
       "      <th>12</th>\n",
       "      <th>13</th>\n",
       "      <th>14</th>\n",
       "    </tr>\n",
       "  </thead>\n",
       "  <tbody>\n",
       "    <tr>\n",
       "      <th>0</th>\n",
       "      <td>0.323499</td>\n",
       "      <td>0.327294</td>\n",
       "      <td>0.318676</td>\n",
       "      <td>0.318461</td>\n",
       "      <td>0.334972</td>\n",
       "      <td>0.313516</td>\n",
       "      <td>0.343086</td>\n",
       "      <td>0.339828</td>\n",
       "      <td>0.332637</td>\n",
       "      <td>0.338411</td>\n",
       "      <td>0.328196</td>\n",
       "      <td>0.329537</td>\n",
       "      <td>0.32885</td>\n",
       "    </tr>\n",
       "  </tbody>\n",
       "</table>\n",
       "</div>"
      ],
      "text/plain": [
       "         2         3         4         5         6         7         8   \\\n",
       "0  0.323499  0.327294  0.318676  0.318461  0.334972  0.313516  0.343086   \n",
       "\n",
       "         9         10        11        12        13       14  \n",
       "0  0.339828  0.332637  0.338411  0.328196  0.329537  0.32885  "
      ]
     },
     "execution_count": 16,
     "metadata": {},
     "output_type": "execute_result"
    }
   ],
   "source": [
    "# Table of silhoutte score\n",
    "score = pd.DataFrame(scores, index = range(2,15))\n",
    "score.T"
   ]
  },
  {
   "cell_type": "code",
   "execution_count": 17,
   "id": "05b6a67d",
   "metadata": {},
   "outputs": [],
   "source": [
    "# Fit kMeans clustering with optimal 8 clusters\n",
    "kMeans = KMeans(n_clusters = 8).fit(X)"
   ]
  },
  {
   "cell_type": "code",
   "execution_count": 18,
   "id": "1a767a03",
   "metadata": {},
   "outputs": [
    {
     "data": {
      "text/plain": [
       "array([5, 7, 0, ..., 0, 5, 6])"
      ]
     },
     "execution_count": 18,
     "metadata": {},
     "output_type": "execute_result"
    }
   ],
   "source": [
    "# Array of each user's cluster\n",
    "kMeans.labels_"
   ]
  }
 ],
 "metadata": {
  "kernelspec": {
   "display_name": "Python 3 (ipykernel)",
   "language": "python",
   "name": "python3"
  },
  "language_info": {
   "codemirror_mode": {
    "name": "ipython",
    "version": 3
   },
   "file_extension": ".py",
   "mimetype": "text/x-python",
   "name": "python",
   "nbconvert_exporter": "python",
   "pygments_lexer": "ipython3",
   "version": "3.9.7"
  }
 },
 "nbformat": 4,
 "nbformat_minor": 5
}
