{
 "cells": [
  {
   "cell_type": "markdown",
   "metadata": {},
   "source": [
    "--- \n",
    "\n",
    "### DSGA1007\n",
    "\n",
    "--- \n",
    "\n",
    "### HW04 \n",
    "\n",
    "### Due Date: Thursday 2021-11-04, 8PM\n",
    "\n",
    "\n",
    "#### Student Name: \n",
    "\n",
    "#### Student NetID: "
   ]
  },
  {
   "cell_type": "markdown",
   "metadata": {},
   "source": [
    "### Problem 01 (30 points)\n",
    "\n",
    "\n",
    "1.1 (5 points) Create a pandas Series object with with the values given by the twelve months: \"January\", \"February\", ..., \"December\". \n",
    "\n",
    "1.2 (5 points) What are the indexes for this object?\n",
    "\n",
    "\n",
    "1.3 (10 points) Create a pandas Series object with with the values given by the twelve months: \"January\", \"February\", ..., \"December\", and with the indexes given by the first twelve natural numbers: 1, 2, ..., 12. \n",
    "\n",
    "\n",
    "1.3 (10 points) Create a pandas Series object with with the values given by the twelve months: \"January\", \"February\", ..., \"December\", and with the indexes given by the first capital letters of the English alphabet: 'A', 'B', ..., 'L'"
   ]
  },
  {
   "cell_type": "markdown",
   "metadata": {},
   "source": [
    "### Solution 01 (30 points)"
   ]
  },
  {
   "cell_type": "markdown",
   "metadata": {},
   "source": [
    "### Problem 02 (30 points)"
   ]
  },
  {
   "cell_type": "markdown",
   "metadata": {},
   "source": [
    "2.1.1 (10 points) Create a pandas dataframe with the indexes $0, 1, \\dots, 9$ and column labels \"col0\", \"col1\", ..., \"col9\". Each value of the dateframe with the index $i$ and with the column \"colj\" should be assigned a random value from the uniform distribution on $[0, 1]$. Hint: You can use: https://numpy.org/doc/stable/reference/random/generated/numpy.random.rand.html \n",
    "\n",
    "\n",
    "2.1.2 (5 points) Filter the dataframe from 2.1.1 in order to remove all rows for which the corresponding value in the column \"col7\" is smaller than 0.2 and bigger than 0.8\n",
    "\n",
    "2.2.1 (10 points) Create a pandas dataframe with the indexes $0, 1, \\dots, 9$ and column labels \"col0\", \"col1\", ..., \"col9\". Each value of the dateframe with the index $i$ and with the column \"colj\" should be assigned the value $50 \\cdot i + j$. \n",
    "\n",
    "2.2.2 (5 points) Filter the dataframe from 2.2.1 in order to remove all rows for which the corresponding value in the column \"col7\" is smaller than 100 and bigger than 350\n"
   ]
  },
  {
   "cell_type": "markdown",
   "metadata": {},
   "source": [
    "### Solution 02 (30 points)"
   ]
  },
  {
   "cell_type": "markdown",
   "metadata": {},
   "source": [
    "### Problem 03 (40 points)\n",
    "\n",
    "In this problem we examine the provided data set \"IMDB-Movie-Data.csv\", which contains the following columns that describe a list of movies: \n",
    "    \n",
    "['Title', Rank', 'Genre', 'Description', 'Director', 'Actors', 'Year', 'Runtime (Minutes)', 'Rating', 'Votes', 'Revenue (Millions)', 'Metascore'].\n",
    "\n",
    "To read the given data set into a dataframe with the index equal to a title of a movie title, you can use: \n",
    "\n",
    "\n",
    "\n",
    "\n",
    "```df_movies = pd.read_csv(\"IMDB-Movie-Data.csv\", index_col=\"Title\")```\n",
    "\n",
    "\n",
    "But since we want to drop all duplicated rows, you can use the following to read the data:\n",
    "\n",
    "\n",
    "```df_movies = pd.read_csv(\"IMDB-Movie-Data.csv\", index_col=\"Title\").drop_duplicates()```\n",
    "\n",
    "\n",
    "Also, in order to get an idea about the content of the data set, you can run:\n",
    "\n",
    "```df_movies``` \n",
    "\n",
    "\n",
    "\n",
    "3.1 (10 points) Print the number of rows in such obtained dataset\n",
    "\n",
    "3.2 (10 points) Print the number of rows for which the column \"Metascore\" is ` NA/null` (i.e. not defined).\n",
    "\n",
    "3.3 (10 points) Print the ratio of the two: what is the fraction of missing values for the column \"Metascore\"\n",
    "\n",
    "3.4 (10 points) Print the min, mean, max, median for the column \"Metascore\"\n",
    "\n"
   ]
  },
  {
   "cell_type": "markdown",
   "metadata": {},
   "source": [
    "### Solution 03 (40 points)"
   ]
  },
  {
   "cell_type": "code",
   "execution_count": null,
   "metadata": {},
   "outputs": [],
   "source": []
  }
 ],
 "metadata": {
  "kernelspec": {
   "display_name": "Python 3",
   "language": "python",
   "name": "python3"
  },
  "language_info": {
   "codemirror_mode": {
    "name": "ipython",
    "version": 3
   },
   "file_extension": ".py",
   "mimetype": "text/x-python",
   "name": "python",
   "nbconvert_exporter": "python",
   "pygments_lexer": "ipython3",
   "version": "3.7.7"
  }
 },
 "nbformat": 4,
 "nbformat_minor": 2
}
