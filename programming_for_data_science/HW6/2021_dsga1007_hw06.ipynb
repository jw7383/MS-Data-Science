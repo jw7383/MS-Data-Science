{
 "cells": [
  {
   "cell_type": "markdown",
   "metadata": {},
   "source": [
    "--- \n",
    "\n",
    "### DSGA1007\n",
    "\n",
    "--- \n",
    "\n",
    "### HW06 \n",
    "\n",
    "### Due Date: Friday 2021-11-26, 8PM\n",
    "\n",
    "\n",
    "#### Student Name: \n",
    "\n",
    "#### Student NetID: "
   ]
  },
  {
   "cell_type": "markdown",
   "metadata": {},
   "source": [
    "**Problem 1 (100 points)** \n",
    "\n",
    "In this problem we examine, by using `pandas`, the provided data in the form of time-series: \"Electricity production and consumption are reported as daily totals in gigawatt-hours (GWh)\". \n",
    "    \n",
    "    \n",
    "The columns of the data set are:\n",
    "\n",
    "```Date — The date (yyyy-mm-dd format)\n",
    "Consumption — Electricity consumption in GWh\n",
    "Wind — Wind power production in GWh\n",
    "Solar — Solar power production in GWh\n",
    "Wind+Solar — Sum of wind and solar power production in GWh ```   "
   ]
  },
  {
   "cell_type": "markdown",
   "metadata": {},
   "source": [
    "**1.1 (10 points)** Import the data set by using `pandas` from the given csv file.\n",
    "\n",
    "As in the lecture, set `index_col=Date` and `parse_dates=True`, so to set indexes as `Date`.\n",
    "\n",
    "Call this data set `data`."
   ]
  },
  {
   "cell_type": "markdown",
   "metadata": {},
   "source": [
    "**1.2 (5 points)** Display first 10 rows of the data frame"
   ]
  },
  {
   "cell_type": "markdown",
   "metadata": {},
   "source": [
    "**1.3 (5 points)** Display last 10 rows of the data frame"
   ]
  },
  {
   "cell_type": "markdown",
   "metadata": {},
   "source": [
    "**1.4 (5 points)** Use `describe` to describe data."
   ]
  },
  {
   "cell_type": "markdown",
   "metadata": {},
   "source": [
    "**1.5 (5 points)** Create a new data frame by dropping all `na` values."
   ]
  },
  {
   "cell_type": "markdown",
   "metadata": {},
   "source": [
    "**1.6 (5 points)** Use `describe` to describe `data_dropna`:"
   ]
  },
  {
   "cell_type": "markdown",
   "metadata": {},
   "source": [
    "**1.7 (5 points)** Get all the keys of `data`, which we will here also call column names or features:\n",
    "    "
   ]
  },
  {
   "cell_type": "markdown",
   "metadata": {},
   "source": [
    "**1.8 (10 points)** For every of the features, plot its values over time\n",
    "\n",
    "Note: Please use the original data frame (with the all na values) for visualization. Also, separate plots or one plot are both fine."
   ]
  },
  {
   "cell_type": "markdown",
   "metadata": {},
   "source": [
    "**1.9 (10 points)** Group-by and average the input data over years. Plot and describe such a data frame. Call that data frame `data_y`.\n",
    "\n",
    "Note: use the original data frame (with the all na values). Also in order to \"describe\" the data frame use the describe function."
   ]
  },
  {
   "cell_type": "markdown",
   "metadata": {},
   "source": [
    "**1.10 (10 points)** Group-by and average the input data over months. Plot and describe such a data frame. Call that data frame `data_m`.\n",
    "\n",
    "Note: use the original data frame (with the all na values). Also in order to \"describe\" the data frame use the describe function."
   ]
  },
  {
   "cell_type": "markdown",
   "metadata": {},
   "source": [
    "**1.11 (10 points)** Group-by and average the input data over days. Plot and describe such a data frame. Call that data frame `data_d`.\n",
    "\n",
    "Note: use the original data frame (with the all na values). Also in order to \"describe\" the data frame use the describe function."
   ]
  },
  {
   "cell_type": "markdown",
   "metadata": {},
   "source": [
    "**1.12 (15 points)** For each of the above frames `data_y`, `data_m`, `data_d`, consider their features `['Consumption', 'Wind', 'Solar', 'Wind+Solar']`.  For each of these, calculate `min`, `max` and  indexes at which `min` and `max` are attained.\n",
    "\n",
    "\n"
   ]
  },
  {
   "cell_type": "markdown",
   "metadata": {},
   "source": [
    "**1.13 (5 points)** For which month the average consumption is lowest, and for which one is the highest?"
   ]
  }
 ],
 "metadata": {
  "kernelspec": {
   "display_name": "Python 3",
   "language": "python",
   "name": "python3"
  },
  "language_info": {
   "codemirror_mode": {
    "name": "ipython",
    "version": 3
   },
   "file_extension": ".py",
   "mimetype": "text/x-python",
   "name": "python",
   "nbconvert_exporter": "python",
   "pygments_lexer": "ipython3",
   "version": "3.7.7"
  }
 },
 "nbformat": 4,
 "nbformat_minor": 2
}
