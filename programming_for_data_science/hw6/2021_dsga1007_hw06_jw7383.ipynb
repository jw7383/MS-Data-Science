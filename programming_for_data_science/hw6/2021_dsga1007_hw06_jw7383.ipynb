{
 "cells": [
  {
   "cell_type": "markdown",
   "metadata": {},
   "source": [
    "--- \n",
    "\n",
    "### DSGA1007\n",
    "\n",
    "--- \n",
    "\n",
    "### HW06 \n",
    "\n",
    "### Due Date: Friday 2021-11-26, 8PM\n",
    "\n",
    "\n",
    "#### Student Name: Jason Wang\n",
    "\n",
    "#### Student NetID: jw7383"
   ]
  },
  {
   "cell_type": "markdown",
   "metadata": {},
   "source": [
    "**Problem 1 (100 points)** \n",
    "\n",
    "In this problem we examine, by using `pandas`, the provided data in the form of time-series: \"Electricity production and consumption are reported as daily totals in gigawatt-hours (GWh)\". \n",
    "    \n",
    "    \n",
    "The columns of the data set are:\n",
    "\n",
    "```Date — The date (yyyy-mm-dd format)\n",
    "Consumption — Electricity consumption in GWh\n",
    "Wind — Wind power production in GWh\n",
    "Solar — Solar power production in GWh\n",
    "Wind+Solar — Sum of wind and solar power production in GWh ```   "
   ]
  },
  {
   "cell_type": "markdown",
   "metadata": {},
   "source": [
    "**1.1 (10 points)** Import the data set by using `pandas` from the given csv file.\n",
    "\n",
    "As in the lecture, set `index_col=Date` and `parse_dates=True`, so to set indexes as `Date`.\n",
    "\n",
    "Call this data set `data`."
   ]
  },
  {
   "cell_type": "code",
   "execution_count": 1,
   "metadata": {},
   "outputs": [],
   "source": [
    "import pandas as pd\n",
    "data = pd.read_csv('opsd_daily.csv', index_col='Date', parse_dates=True)"
   ]
  },
  {
   "cell_type": "markdown",
   "metadata": {},
   "source": [
    "**1.2 (5 points)** Display first 10 rows of the data frame"
   ]
  },
  {
   "cell_type": "code",
   "execution_count": 2,
   "metadata": {},
   "outputs": [
    {
     "data": {
      "text/html": [
       "<div>\n",
       "<style scoped>\n",
       "    .dataframe tbody tr th:only-of-type {\n",
       "        vertical-align: middle;\n",
       "    }\n",
       "\n",
       "    .dataframe tbody tr th {\n",
       "        vertical-align: top;\n",
       "    }\n",
       "\n",
       "    .dataframe thead th {\n",
       "        text-align: right;\n",
       "    }\n",
       "</style>\n",
       "<table border=\"1\" class=\"dataframe\">\n",
       "  <thead>\n",
       "    <tr style=\"text-align: right;\">\n",
       "      <th></th>\n",
       "      <th>Consumption</th>\n",
       "      <th>Wind</th>\n",
       "      <th>Solar</th>\n",
       "      <th>Wind+Solar</th>\n",
       "    </tr>\n",
       "    <tr>\n",
       "      <th>Date</th>\n",
       "      <th></th>\n",
       "      <th></th>\n",
       "      <th></th>\n",
       "      <th></th>\n",
       "    </tr>\n",
       "  </thead>\n",
       "  <tbody>\n",
       "    <tr>\n",
       "      <th>2006-01-01</th>\n",
       "      <td>1069.184</td>\n",
       "      <td>NaN</td>\n",
       "      <td>NaN</td>\n",
       "      <td>NaN</td>\n",
       "    </tr>\n",
       "    <tr>\n",
       "      <th>2006-01-02</th>\n",
       "      <td>1380.521</td>\n",
       "      <td>NaN</td>\n",
       "      <td>NaN</td>\n",
       "      <td>NaN</td>\n",
       "    </tr>\n",
       "    <tr>\n",
       "      <th>2006-01-03</th>\n",
       "      <td>1442.533</td>\n",
       "      <td>NaN</td>\n",
       "      <td>NaN</td>\n",
       "      <td>NaN</td>\n",
       "    </tr>\n",
       "    <tr>\n",
       "      <th>2006-01-04</th>\n",
       "      <td>1457.217</td>\n",
       "      <td>NaN</td>\n",
       "      <td>NaN</td>\n",
       "      <td>NaN</td>\n",
       "    </tr>\n",
       "    <tr>\n",
       "      <th>2006-01-05</th>\n",
       "      <td>1477.131</td>\n",
       "      <td>NaN</td>\n",
       "      <td>NaN</td>\n",
       "      <td>NaN</td>\n",
       "    </tr>\n",
       "    <tr>\n",
       "      <th>2006-01-06</th>\n",
       "      <td>1403.427</td>\n",
       "      <td>NaN</td>\n",
       "      <td>NaN</td>\n",
       "      <td>NaN</td>\n",
       "    </tr>\n",
       "    <tr>\n",
       "      <th>2006-01-07</th>\n",
       "      <td>1300.287</td>\n",
       "      <td>NaN</td>\n",
       "      <td>NaN</td>\n",
       "      <td>NaN</td>\n",
       "    </tr>\n",
       "    <tr>\n",
       "      <th>2006-01-08</th>\n",
       "      <td>1207.985</td>\n",
       "      <td>NaN</td>\n",
       "      <td>NaN</td>\n",
       "      <td>NaN</td>\n",
       "    </tr>\n",
       "    <tr>\n",
       "      <th>2006-01-09</th>\n",
       "      <td>1529.323</td>\n",
       "      <td>NaN</td>\n",
       "      <td>NaN</td>\n",
       "      <td>NaN</td>\n",
       "    </tr>\n",
       "    <tr>\n",
       "      <th>2006-01-10</th>\n",
       "      <td>1576.911</td>\n",
       "      <td>NaN</td>\n",
       "      <td>NaN</td>\n",
       "      <td>NaN</td>\n",
       "    </tr>\n",
       "  </tbody>\n",
       "</table>\n",
       "</div>"
      ],
      "text/plain": [
       "            Consumption  Wind  Solar  Wind+Solar\n",
       "Date                                            \n",
       "2006-01-01     1069.184   NaN    NaN         NaN\n",
       "2006-01-02     1380.521   NaN    NaN         NaN\n",
       "2006-01-03     1442.533   NaN    NaN         NaN\n",
       "2006-01-04     1457.217   NaN    NaN         NaN\n",
       "2006-01-05     1477.131   NaN    NaN         NaN\n",
       "2006-01-06     1403.427   NaN    NaN         NaN\n",
       "2006-01-07     1300.287   NaN    NaN         NaN\n",
       "2006-01-08     1207.985   NaN    NaN         NaN\n",
       "2006-01-09     1529.323   NaN    NaN         NaN\n",
       "2006-01-10     1576.911   NaN    NaN         NaN"
      ]
     },
     "execution_count": 2,
     "metadata": {},
     "output_type": "execute_result"
    }
   ],
   "source": [
    "data.head(10)"
   ]
  },
  {
   "cell_type": "markdown",
   "metadata": {},
   "source": [
    "**1.3 (5 points)** Display last 10 rows of the data frame"
   ]
  },
  {
   "cell_type": "code",
   "execution_count": 3,
   "metadata": {},
   "outputs": [
    {
     "data": {
      "text/html": [
       "<div>\n",
       "<style scoped>\n",
       "    .dataframe tbody tr th:only-of-type {\n",
       "        vertical-align: middle;\n",
       "    }\n",
       "\n",
       "    .dataframe tbody tr th {\n",
       "        vertical-align: top;\n",
       "    }\n",
       "\n",
       "    .dataframe thead th {\n",
       "        text-align: right;\n",
       "    }\n",
       "</style>\n",
       "<table border=\"1\" class=\"dataframe\">\n",
       "  <thead>\n",
       "    <tr style=\"text-align: right;\">\n",
       "      <th></th>\n",
       "      <th>Consumption</th>\n",
       "      <th>Wind</th>\n",
       "      <th>Solar</th>\n",
       "      <th>Wind+Solar</th>\n",
       "    </tr>\n",
       "    <tr>\n",
       "      <th>Date</th>\n",
       "      <th></th>\n",
       "      <th></th>\n",
       "      <th></th>\n",
       "      <th></th>\n",
       "    </tr>\n",
       "  </thead>\n",
       "  <tbody>\n",
       "    <tr>\n",
       "      <th>2017-12-22</th>\n",
       "      <td>1423.23782</td>\n",
       "      <td>228.773</td>\n",
       "      <td>10.065</td>\n",
       "      <td>238.838</td>\n",
       "    </tr>\n",
       "    <tr>\n",
       "      <th>2017-12-23</th>\n",
       "      <td>1272.17085</td>\n",
       "      <td>748.074</td>\n",
       "      <td>8.450</td>\n",
       "      <td>756.524</td>\n",
       "    </tr>\n",
       "    <tr>\n",
       "      <th>2017-12-24</th>\n",
       "      <td>1141.75730</td>\n",
       "      <td>812.422</td>\n",
       "      <td>9.949</td>\n",
       "      <td>822.371</td>\n",
       "    </tr>\n",
       "    <tr>\n",
       "      <th>2017-12-25</th>\n",
       "      <td>1111.28338</td>\n",
       "      <td>587.810</td>\n",
       "      <td>15.765</td>\n",
       "      <td>603.575</td>\n",
       "    </tr>\n",
       "    <tr>\n",
       "      <th>2017-12-26</th>\n",
       "      <td>1130.11683</td>\n",
       "      <td>717.453</td>\n",
       "      <td>30.923</td>\n",
       "      <td>748.376</td>\n",
       "    </tr>\n",
       "    <tr>\n",
       "      <th>2017-12-27</th>\n",
       "      <td>1263.94091</td>\n",
       "      <td>394.507</td>\n",
       "      <td>16.530</td>\n",
       "      <td>411.037</td>\n",
       "    </tr>\n",
       "    <tr>\n",
       "      <th>2017-12-28</th>\n",
       "      <td>1299.86398</td>\n",
       "      <td>506.424</td>\n",
       "      <td>14.162</td>\n",
       "      <td>520.586</td>\n",
       "    </tr>\n",
       "    <tr>\n",
       "      <th>2017-12-29</th>\n",
       "      <td>1295.08753</td>\n",
       "      <td>584.277</td>\n",
       "      <td>29.854</td>\n",
       "      <td>614.131</td>\n",
       "    </tr>\n",
       "    <tr>\n",
       "      <th>2017-12-30</th>\n",
       "      <td>1215.44897</td>\n",
       "      <td>721.247</td>\n",
       "      <td>7.467</td>\n",
       "      <td>728.714</td>\n",
       "    </tr>\n",
       "    <tr>\n",
       "      <th>2017-12-31</th>\n",
       "      <td>1107.11488</td>\n",
       "      <td>721.176</td>\n",
       "      <td>19.980</td>\n",
       "      <td>741.156</td>\n",
       "    </tr>\n",
       "  </tbody>\n",
       "</table>\n",
       "</div>"
      ],
      "text/plain": [
       "            Consumption     Wind   Solar  Wind+Solar\n",
       "Date                                                \n",
       "2017-12-22   1423.23782  228.773  10.065     238.838\n",
       "2017-12-23   1272.17085  748.074   8.450     756.524\n",
       "2017-12-24   1141.75730  812.422   9.949     822.371\n",
       "2017-12-25   1111.28338  587.810  15.765     603.575\n",
       "2017-12-26   1130.11683  717.453  30.923     748.376\n",
       "2017-12-27   1263.94091  394.507  16.530     411.037\n",
       "2017-12-28   1299.86398  506.424  14.162     520.586\n",
       "2017-12-29   1295.08753  584.277  29.854     614.131\n",
       "2017-12-30   1215.44897  721.247   7.467     728.714\n",
       "2017-12-31   1107.11488  721.176  19.980     741.156"
      ]
     },
     "execution_count": 3,
     "metadata": {},
     "output_type": "execute_result"
    }
   ],
   "source": [
    "data.tail(10)"
   ]
  },
  {
   "cell_type": "markdown",
   "metadata": {},
   "source": [
    "**1.4 (5 points)** Use `describe` to describe data."
   ]
  },
  {
   "cell_type": "code",
   "execution_count": 4,
   "metadata": {},
   "outputs": [
    {
     "data": {
      "text/html": [
       "<div>\n",
       "<style scoped>\n",
       "    .dataframe tbody tr th:only-of-type {\n",
       "        vertical-align: middle;\n",
       "    }\n",
       "\n",
       "    .dataframe tbody tr th {\n",
       "        vertical-align: top;\n",
       "    }\n",
       "\n",
       "    .dataframe thead th {\n",
       "        text-align: right;\n",
       "    }\n",
       "</style>\n",
       "<table border=\"1\" class=\"dataframe\">\n",
       "  <thead>\n",
       "    <tr style=\"text-align: right;\">\n",
       "      <th></th>\n",
       "      <th>Consumption</th>\n",
       "      <th>Wind</th>\n",
       "      <th>Solar</th>\n",
       "      <th>Wind+Solar</th>\n",
       "    </tr>\n",
       "  </thead>\n",
       "  <tbody>\n",
       "    <tr>\n",
       "      <th>count</th>\n",
       "      <td>4383.000000</td>\n",
       "      <td>2920.000000</td>\n",
       "      <td>2188.000000</td>\n",
       "      <td>2187.000000</td>\n",
       "    </tr>\n",
       "    <tr>\n",
       "      <th>mean</th>\n",
       "      <td>1338.675836</td>\n",
       "      <td>164.814173</td>\n",
       "      <td>89.258695</td>\n",
       "      <td>272.663481</td>\n",
       "    </tr>\n",
       "    <tr>\n",
       "      <th>std</th>\n",
       "      <td>165.775710</td>\n",
       "      <td>143.692732</td>\n",
       "      <td>58.550099</td>\n",
       "      <td>146.319884</td>\n",
       "    </tr>\n",
       "    <tr>\n",
       "      <th>min</th>\n",
       "      <td>842.395000</td>\n",
       "      <td>5.757000</td>\n",
       "      <td>1.968000</td>\n",
       "      <td>21.478000</td>\n",
       "    </tr>\n",
       "    <tr>\n",
       "      <th>25%</th>\n",
       "      <td>1217.859000</td>\n",
       "      <td>62.353250</td>\n",
       "      <td>35.179250</td>\n",
       "      <td>172.185500</td>\n",
       "    </tr>\n",
       "    <tr>\n",
       "      <th>50%</th>\n",
       "      <td>1367.123000</td>\n",
       "      <td>119.098000</td>\n",
       "      <td>86.407000</td>\n",
       "      <td>240.991000</td>\n",
       "    </tr>\n",
       "    <tr>\n",
       "      <th>75%</th>\n",
       "      <td>1457.761000</td>\n",
       "      <td>217.900250</td>\n",
       "      <td>135.071500</td>\n",
       "      <td>338.988000</td>\n",
       "    </tr>\n",
       "    <tr>\n",
       "      <th>max</th>\n",
       "      <td>1709.568000</td>\n",
       "      <td>826.278000</td>\n",
       "      <td>241.580000</td>\n",
       "      <td>851.556000</td>\n",
       "    </tr>\n",
       "  </tbody>\n",
       "</table>\n",
       "</div>"
      ],
      "text/plain": [
       "       Consumption         Wind        Solar   Wind+Solar\n",
       "count  4383.000000  2920.000000  2188.000000  2187.000000\n",
       "mean   1338.675836   164.814173    89.258695   272.663481\n",
       "std     165.775710   143.692732    58.550099   146.319884\n",
       "min     842.395000     5.757000     1.968000    21.478000\n",
       "25%    1217.859000    62.353250    35.179250   172.185500\n",
       "50%    1367.123000   119.098000    86.407000   240.991000\n",
       "75%    1457.761000   217.900250   135.071500   338.988000\n",
       "max    1709.568000   826.278000   241.580000   851.556000"
      ]
     },
     "execution_count": 4,
     "metadata": {},
     "output_type": "execute_result"
    }
   ],
   "source": [
    "data.describe()"
   ]
  },
  {
   "cell_type": "markdown",
   "metadata": {},
   "source": [
    "**1.5 (5 points)** Create a new data frame by dropping all `na` values."
   ]
  },
  {
   "cell_type": "code",
   "execution_count": 5,
   "metadata": {},
   "outputs": [],
   "source": [
    "data_dropna = data.dropna()"
   ]
  },
  {
   "cell_type": "markdown",
   "metadata": {},
   "source": [
    "**1.6 (5 points)** Use `describe` to describe `data_dropna`:"
   ]
  },
  {
   "cell_type": "code",
   "execution_count": 6,
   "metadata": {},
   "outputs": [
    {
     "data": {
      "text/html": [
       "<div>\n",
       "<style scoped>\n",
       "    .dataframe tbody tr th:only-of-type {\n",
       "        vertical-align: middle;\n",
       "    }\n",
       "\n",
       "    .dataframe tbody tr th {\n",
       "        vertical-align: top;\n",
       "    }\n",
       "\n",
       "    .dataframe thead th {\n",
       "        text-align: right;\n",
       "    }\n",
       "</style>\n",
       "<table border=\"1\" class=\"dataframe\">\n",
       "  <thead>\n",
       "    <tr style=\"text-align: right;\">\n",
       "      <th></th>\n",
       "      <th>Consumption</th>\n",
       "      <th>Wind</th>\n",
       "      <th>Solar</th>\n",
       "      <th>Wind+Solar</th>\n",
       "    </tr>\n",
       "  </thead>\n",
       "  <tbody>\n",
       "    <tr>\n",
       "      <th>count</th>\n",
       "      <td>2187.000000</td>\n",
       "      <td>2187.000000</td>\n",
       "      <td>2187.000000</td>\n",
       "      <td>2187.000000</td>\n",
       "    </tr>\n",
       "    <tr>\n",
       "      <th>mean</th>\n",
       "      <td>1347.519037</td>\n",
       "      <td>183.431878</td>\n",
       "      <td>89.231604</td>\n",
       "      <td>272.663481</td>\n",
       "    </tr>\n",
       "    <tr>\n",
       "      <th>std</th>\n",
       "      <td>166.551363</td>\n",
       "      <td>153.390542</td>\n",
       "      <td>58.549772</td>\n",
       "      <td>146.319884</td>\n",
       "    </tr>\n",
       "    <tr>\n",
       "      <th>min</th>\n",
       "      <td>899.827000</td>\n",
       "      <td>6.511000</td>\n",
       "      <td>1.968000</td>\n",
       "      <td>21.478000</td>\n",
       "    </tr>\n",
       "    <tr>\n",
       "      <th>25%</th>\n",
       "      <td>1222.042000</td>\n",
       "      <td>72.367000</td>\n",
       "      <td>35.161500</td>\n",
       "      <td>172.185500</td>\n",
       "    </tr>\n",
       "    <tr>\n",
       "      <th>50%</th>\n",
       "      <td>1380.220000</td>\n",
       "      <td>136.842000</td>\n",
       "      <td>86.390000</td>\n",
       "      <td>240.991000</td>\n",
       "    </tr>\n",
       "    <tr>\n",
       "      <th>75%</th>\n",
       "      <td>1460.072500</td>\n",
       "      <td>245.027500</td>\n",
       "      <td>135.038000</td>\n",
       "      <td>338.988000</td>\n",
       "    </tr>\n",
       "    <tr>\n",
       "      <th>max</th>\n",
       "      <td>1682.002000</td>\n",
       "      <td>826.278000</td>\n",
       "      <td>241.580000</td>\n",
       "      <td>851.556000</td>\n",
       "    </tr>\n",
       "  </tbody>\n",
       "</table>\n",
       "</div>"
      ],
      "text/plain": [
       "       Consumption         Wind        Solar   Wind+Solar\n",
       "count  2187.000000  2187.000000  2187.000000  2187.000000\n",
       "mean   1347.519037   183.431878    89.231604   272.663481\n",
       "std     166.551363   153.390542    58.549772   146.319884\n",
       "min     899.827000     6.511000     1.968000    21.478000\n",
       "25%    1222.042000    72.367000    35.161500   172.185500\n",
       "50%    1380.220000   136.842000    86.390000   240.991000\n",
       "75%    1460.072500   245.027500   135.038000   338.988000\n",
       "max    1682.002000   826.278000   241.580000   851.556000"
      ]
     },
     "execution_count": 6,
     "metadata": {},
     "output_type": "execute_result"
    }
   ],
   "source": [
    "data_dropna.describe()"
   ]
  },
  {
   "cell_type": "markdown",
   "metadata": {},
   "source": [
    "**1.7 (5 points)** Get all the keys of `data`, which we will here also call column names or features:\n",
    "    "
   ]
  },
  {
   "cell_type": "code",
   "execution_count": 7,
   "metadata": {},
   "outputs": [
    {
     "data": {
      "text/plain": [
       "Index(['Consumption', 'Wind', 'Solar', 'Wind+Solar'], dtype='object')"
      ]
     },
     "execution_count": 7,
     "metadata": {},
     "output_type": "execute_result"
    }
   ],
   "source": [
    "data.columns"
   ]
  },
  {
   "cell_type": "markdown",
   "metadata": {},
   "source": [
    "**1.8 (10 points)** For every of the features, plot its values over time\n",
    "\n",
    "Note: Please use the original data frame (with the all na values) for visualization. Also, separate plots or one plot are both fine."
   ]
  },
  {
   "cell_type": "code",
   "execution_count": 8,
   "metadata": {},
   "outputs": [
    {
     "data": {
      "text/plain": [
       "<AxesSubplot:xlabel='Date'>"
      ]
     },
     "execution_count": 8,
     "metadata": {},
     "output_type": "execute_result"
    },
    {
     "data": {
      "image/png": "[encoded data removed]",
      "text/plain": [
       "<Figure size 576x576 with 1 Axes>"
      ]
     },
     "metadata": {
      "needs_background": "light"
     },
     "output_type": "display_data"
    }
   ],
   "source": [
    "data.plot(figsize = (8,8))"
   ]
  },
  {
   "cell_type": "markdown",
   "metadata": {},
   "source": [
    "**1.9 (10 points)** Group-by and average the input data over years. Plot and describe such a data frame. Call that data frame `data_y`.\n",
    "\n",
    "Note: use the original data frame (with the all na values). Also in order to \"describe\" the data frame use the describe function."
   ]
  },
  {
   "cell_type": "code",
   "execution_count": 9,
   "metadata": {},
   "outputs": [
    {
     "data": {
      "text/html": [
       "<div>\n",
       "<style scoped>\n",
       "    .dataframe tbody tr th:only-of-type {\n",
       "        vertical-align: middle;\n",
       "    }\n",
       "\n",
       "    .dataframe tbody tr th {\n",
       "        vertical-align: top;\n",
       "    }\n",
       "\n",
       "    .dataframe thead th {\n",
       "        text-align: right;\n",
       "    }\n",
       "</style>\n",
       "<table border=\"1\" class=\"dataframe\">\n",
       "  <thead>\n",
       "    <tr style=\"text-align: right;\">\n",
       "      <th></th>\n",
       "      <th>Consumption</th>\n",
       "      <th>Wind</th>\n",
       "      <th>Solar</th>\n",
       "      <th>Wind+Solar</th>\n",
       "    </tr>\n",
       "  </thead>\n",
       "  <tbody>\n",
       "    <tr>\n",
       "      <th>count</th>\n",
       "      <td>12.000000</td>\n",
       "      <td>8.000000</td>\n",
       "      <td>6.000000</td>\n",
       "      <td>6.000000</td>\n",
       "    </tr>\n",
       "    <tr>\n",
       "      <th>mean</th>\n",
       "      <td>1338.675083</td>\n",
       "      <td>164.788715</td>\n",
       "      <td>89.255394</td>\n",
       "      <td>272.567207</td>\n",
       "    </tr>\n",
       "    <tr>\n",
       "      <th>std</th>\n",
       "      <td>45.462542</td>\n",
       "      <td>62.842562</td>\n",
       "      <td>8.733242</td>\n",
       "      <td>69.761755</td>\n",
       "    </tr>\n",
       "    <tr>\n",
       "      <th>min</th>\n",
       "      <td>1259.554597</td>\n",
       "      <td>98.388430</td>\n",
       "      <td>76.194896</td>\n",
       "      <td>201.502730</td>\n",
       "    </tr>\n",
       "    <tr>\n",
       "      <th>25%</th>\n",
       "      <td>1316.941110</td>\n",
       "      <td>124.223286</td>\n",
       "      <td>83.455680</td>\n",
       "      <td>216.042105</td>\n",
       "    </tr>\n",
       "    <tr>\n",
       "      <th>50%</th>\n",
       "      <td>1346.966292</td>\n",
       "      <td>134.857411</td>\n",
       "      <td>91.980481</td>\n",
       "      <td>267.571958</td>\n",
       "    </tr>\n",
       "    <tr>\n",
       "      <th>75%</th>\n",
       "      <td>1381.533905</td>\n",
       "      <td>210.864492</td>\n",
       "      <td>95.335482</td>\n",
       "      <td>307.119526</td>\n",
       "    </tr>\n",
       "    <tr>\n",
       "      <th>max</th>\n",
       "      <td>1384.286474</td>\n",
       "      <td>281.280452</td>\n",
       "      <td>98.308611</td>\n",
       "      <td>379.589063</td>\n",
       "    </tr>\n",
       "  </tbody>\n",
       "</table>\n",
       "</div>"
      ],
      "text/plain": [
       "       Consumption        Wind      Solar  Wind+Solar\n",
       "count    12.000000    8.000000   6.000000    6.000000\n",
       "mean   1338.675083  164.788715  89.255394  272.567207\n",
       "std      45.462542   62.842562   8.733242   69.761755\n",
       "min    1259.554597   98.388430  76.194896  201.502730\n",
       "25%    1316.941110  124.223286  83.455680  216.042105\n",
       "50%    1346.966292  134.857411  91.980481  267.571958\n",
       "75%    1381.533905  210.864492  95.335482  307.119526\n",
       "max    1384.286474  281.280452  98.308611  379.589063"
      ]
     },
     "execution_count": 9,
     "metadata": {},
     "output_type": "execute_result"
    }
   ],
   "source": [
    "data_y = data.groupby(data.index.year).mean()\n",
    "data_y.describe()"
   ]
  },
  {
   "cell_type": "code",
   "execution_count": 10,
   "metadata": {},
   "outputs": [
    {
     "data": {
      "text/plain": [
       "<AxesSubplot:xlabel='Date'>"
      ]
     },
     "execution_count": 10,
     "metadata": {},
     "output_type": "execute_result"
    },
    {
     "data": {
      "image/png": "[encoded data removed]",
      "text/plain": [
       "<Figure size 576x576 with 1 Axes>"
      ]
     },
     "metadata": {
      "needs_background": "light"
     },
     "output_type": "display_data"
    }
   ],
   "source": [
    "data_y.plot(figsize = (8,8))"
   ]
  },
  {
   "cell_type": "markdown",
   "metadata": {},
   "source": [
    "**1.10 (10 points)** Group-by and average the input data over months. Plot and describe such a data frame. Call that data frame `data_m`.\n",
    "\n",
    "Note: use the original data frame (with the all na values). Also in order to \"describe\" the data frame use the describe function."
   ]
  },
  {
   "cell_type": "code",
   "execution_count": 11,
   "metadata": {},
   "outputs": [
    {
     "data": {
      "text/html": [
       "<div>\n",
       "<style scoped>\n",
       "    .dataframe tbody tr th:only-of-type {\n",
       "        vertical-align: middle;\n",
       "    }\n",
       "\n",
       "    .dataframe tbody tr th {\n",
       "        vertical-align: top;\n",
       "    }\n",
       "\n",
       "    .dataframe thead th {\n",
       "        text-align: right;\n",
       "    }\n",
       "</style>\n",
       "<table border=\"1\" class=\"dataframe\">\n",
       "  <thead>\n",
       "    <tr style=\"text-align: right;\">\n",
       "      <th></th>\n",
       "      <th>Consumption</th>\n",
       "      <th>Wind</th>\n",
       "      <th>Solar</th>\n",
       "      <th>Wind+Solar</th>\n",
       "    </tr>\n",
       "  </thead>\n",
       "  <tbody>\n",
       "    <tr>\n",
       "      <th>count</th>\n",
       "      <td>12.000000</td>\n",
       "      <td>12.000000</td>\n",
       "      <td>12.000000</td>\n",
       "      <td>12.000000</td>\n",
       "    </tr>\n",
       "    <tr>\n",
       "      <th>mean</th>\n",
       "      <td>1339.373098</td>\n",
       "      <td>164.980810</td>\n",
       "      <td>89.063732</td>\n",
       "      <td>272.615320</td>\n",
       "    </tr>\n",
       "    <tr>\n",
       "      <th>std</th>\n",
       "      <td>73.560631</td>\n",
       "      <td>51.231107</td>\n",
       "      <td>52.078324</td>\n",
       "      <td>22.464881</td>\n",
       "    </tr>\n",
       "    <tr>\n",
       "      <th>min</th>\n",
       "      <td>1249.991327</td>\n",
       "      <td>109.350778</td>\n",
       "      <td>19.569602</td>\n",
       "      <td>241.696133</td>\n",
       "    </tr>\n",
       "    <tr>\n",
       "      <th>25%</th>\n",
       "      <td>1265.818718</td>\n",
       "      <td>124.501358</td>\n",
       "      <td>40.602332</td>\n",
       "      <td>258.472610</td>\n",
       "    </tr>\n",
       "    <tr>\n",
       "      <th>50%</th>\n",
       "      <td>1332.877657</td>\n",
       "      <td>160.479451</td>\n",
       "      <td>95.642688</td>\n",
       "      <td>272.414694</td>\n",
       "    </tr>\n",
       "    <tr>\n",
       "      <th>75%</th>\n",
       "      <td>1391.818921</td>\n",
       "      <td>200.936313</td>\n",
       "      <td>139.075759</td>\n",
       "      <td>282.395041</td>\n",
       "    </tr>\n",
       "    <tr>\n",
       "      <th>max</th>\n",
       "      <td>1452.463841</td>\n",
       "      <td>277.566526</td>\n",
       "      <td>152.569494</td>\n",
       "      <td>328.065392</td>\n",
       "    </tr>\n",
       "  </tbody>\n",
       "</table>\n",
       "</div>"
      ],
      "text/plain": [
       "       Consumption        Wind       Solar  Wind+Solar\n",
       "count    12.000000   12.000000   12.000000   12.000000\n",
       "mean   1339.373098  164.980810   89.063732  272.615320\n",
       "std      73.560631   51.231107   52.078324   22.464881\n",
       "min    1249.991327  109.350778   19.569602  241.696133\n",
       "25%    1265.818718  124.501358   40.602332  258.472610\n",
       "50%    1332.877657  160.479451   95.642688  272.414694\n",
       "75%    1391.818921  200.936313  139.075759  282.395041\n",
       "max    1452.463841  277.566526  152.569494  328.065392"
      ]
     },
     "execution_count": 11,
     "metadata": {},
     "output_type": "execute_result"
    }
   ],
   "source": [
    "data_m = data.groupby(data.index.month).mean()\n",
    "data_m.describe()"
   ]
  },
  {
   "cell_type": "code",
   "execution_count": 12,
   "metadata": {},
   "outputs": [
    {
     "data": {
      "text/plain": [
       "<AxesSubplot:xlabel='Date'>"
      ]
     },
     "execution_count": 12,
     "metadata": {},
     "output_type": "execute_result"
    },
    {
     "data": {
      "image/png": "[encoded data removed]",
      "text/plain": [
       "<Figure size 576x576 with 1 Axes>"
      ]
     },
     "metadata": {
      "needs_background": "light"
     },
     "output_type": "display_data"
    }
   ],
   "source": [
    "data_m.plot(figsize = (8,8))"
   ]
  },
  {
   "cell_type": "markdown",
   "metadata": {},
   "source": [
    "**1.11 (10 points)** Group-by and average the input data over days. Plot and describe such a data frame. Call that data frame `data_d`.\n",
    "\n",
    "Note: use the original data frame (with the all na values). Also in order to \"describe\" the data frame use the describe function."
   ]
  },
  {
   "cell_type": "code",
   "execution_count": 13,
   "metadata": {},
   "outputs": [
    {
     "data": {
      "text/html": [
       "<div>\n",
       "<style scoped>\n",
       "    .dataframe tbody tr th:only-of-type {\n",
       "        vertical-align: middle;\n",
       "    }\n",
       "\n",
       "    .dataframe tbody tr th {\n",
       "        vertical-align: top;\n",
       "    }\n",
       "\n",
       "    .dataframe thead th {\n",
       "        text-align: right;\n",
       "    }\n",
       "</style>\n",
       "<table border=\"1\" class=\"dataframe\">\n",
       "  <thead>\n",
       "    <tr style=\"text-align: right;\">\n",
       "      <th></th>\n",
       "      <th>Consumption</th>\n",
       "      <th>Wind</th>\n",
       "      <th>Solar</th>\n",
       "      <th>Wind+Solar</th>\n",
       "    </tr>\n",
       "  </thead>\n",
       "  <tbody>\n",
       "    <tr>\n",
       "      <th>count</th>\n",
       "      <td>31.000000</td>\n",
       "      <td>31.000000</td>\n",
       "      <td>31.000000</td>\n",
       "      <td>31.000000</td>\n",
       "    </tr>\n",
       "    <tr>\n",
       "      <th>mean</th>\n",
       "      <td>1337.914721</td>\n",
       "      <td>165.004022</td>\n",
       "      <td>89.239130</td>\n",
       "      <td>273.053110</td>\n",
       "    </tr>\n",
       "    <tr>\n",
       "      <th>std</th>\n",
       "      <td>18.899687</td>\n",
       "      <td>10.812232</td>\n",
       "      <td>1.922027</td>\n",
       "      <td>13.127479</td>\n",
       "    </tr>\n",
       "    <tr>\n",
       "      <th>min</th>\n",
       "      <td>1282.221089</td>\n",
       "      <td>143.728042</td>\n",
       "      <td>84.980486</td>\n",
       "      <td>250.086389</td>\n",
       "    </tr>\n",
       "    <tr>\n",
       "      <th>25%</th>\n",
       "      <td>1327.049849</td>\n",
       "      <td>158.924396</td>\n",
       "      <td>87.887535</td>\n",
       "      <td>262.274660</td>\n",
       "    </tr>\n",
       "    <tr>\n",
       "      <th>50%</th>\n",
       "      <td>1345.006370</td>\n",
       "      <td>165.916052</td>\n",
       "      <td>89.258931</td>\n",
       "      <td>275.359139</td>\n",
       "    </tr>\n",
       "    <tr>\n",
       "      <th>75%</th>\n",
       "      <td>1351.188386</td>\n",
       "      <td>171.635209</td>\n",
       "      <td>90.487208</td>\n",
       "      <td>282.925420</td>\n",
       "    </tr>\n",
       "    <tr>\n",
       "      <th>max</th>\n",
       "      <td>1358.771187</td>\n",
       "      <td>184.663811</td>\n",
       "      <td>93.027653</td>\n",
       "      <td>298.629125</td>\n",
       "    </tr>\n",
       "  </tbody>\n",
       "</table>\n",
       "</div>"
      ],
      "text/plain": [
       "       Consumption        Wind      Solar  Wind+Solar\n",
       "count    31.000000   31.000000  31.000000   31.000000\n",
       "mean   1337.914721  165.004022  89.239130  273.053110\n",
       "std      18.899687   10.812232   1.922027   13.127479\n",
       "min    1282.221089  143.728042  84.980486  250.086389\n",
       "25%    1327.049849  158.924396  87.887535  262.274660\n",
       "50%    1345.006370  165.916052  89.258931  275.359139\n",
       "75%    1351.188386  171.635209  90.487208  282.925420\n",
       "max    1358.771187  184.663811  93.027653  298.629125"
      ]
     },
     "execution_count": 13,
     "metadata": {},
     "output_type": "execute_result"
    }
   ],
   "source": [
    "data_d = data.groupby(data.index.day).mean()\n",
    "data_d.describe()"
   ]
  },
  {
   "cell_type": "code",
   "execution_count": 14,
   "metadata": {},
   "outputs": [
    {
     "data": {
      "text/plain": [
       "<AxesSubplot:xlabel='Date'>"
      ]
     },
     "execution_count": 14,
     "metadata": {},
     "output_type": "execute_result"
    },
    {
     "data": {
      "image/png": "[encoded data removed]",
      "text/plain": [
       "<Figure size 576x576 with 1 Axes>"
      ]
     },
     "metadata": {
      "needs_background": "light"
     },
     "output_type": "display_data"
    }
   ],
   "source": [
    "data_d.plot(figsize = (8,8))"
   ]
  },
  {
   "cell_type": "markdown",
   "metadata": {},
   "source": [
    "**1.12 (15 points)** For each of the above frames `data_y`, `data_m`, `data_d`, consider their features `['Consumption', 'Wind', 'Solar', 'Wind+Solar']`.  For each of these, calculate `min`, `max` and  indexes at which `min` and `max` are attained.\n",
    "\n",
    "\n"
   ]
  },
  {
   "cell_type": "code",
   "execution_count": 15,
   "metadata": {},
   "outputs": [
    {
     "name": "stdout",
     "output_type": "stream",
     "text": [
      "--------------------------------------------------------------------------------\n",
      "Min of data_y for Consumption: 1259.554597260274, Index: 2009\n",
      "Max of data_y for Consumption: 1384.2864739726028, Index: 2015\n",
      "Min of data_y for Wind: 98.3884301369863, Index: 2010\n",
      "Max of data_y for Wind: 281.2804520547945, Index: 2017\n",
      "Min of data_y for Solar: 76.19489617486339, Index: 2012\n",
      "Max of data_y for Solar: 98.30861095890413, Index: 2017\n",
      "Min of data_y for Wind+Solar: 201.50272950819672, Index: 2012\n",
      "Max of data_y for Wind+Solar: 379.58906301369865, Index: 2017\n",
      "--------------------------------------------------------------------------------\n",
      "Min of data_m for Consumption: 1249.991327096774, Index: 8\n",
      "Max of data_m for Consumption: 1452.4638407079644, Index: 2\n",
      "Min of data_m for Wind: 109.35077822580645, Index: 8\n",
      "Max of data_m for Wind: 277.5665263157895, Index: 12\n",
      "Min of data_m for Solar: 19.569602150537634, Index: 1\n",
      "Max of data_m for Solar: 152.56949444444444, Index: 6\n",
      "Min of data_m for Wind+Solar: 241.69613333333336, Index: 9\n",
      "Max of data_m for Wind+Solar: 328.06539247311827, Index: 12\n",
      "--------------------------------------------------------------------------------\n",
      "Min of data_d for Consumption: 1282.221089375, Index: 1\n",
      "Max of data_d for Consumption: 1358.7711870833332, Index: 11\n",
      "Min of data_d for Wind: 143.72804166666666, Index: 17\n",
      "Max of data_d for Wind: 184.6638111111111, Index: 29\n",
      "Min of data_d for Solar: 84.98048611111112, Index: 12\n",
      "Max of data_d for Solar: 93.02765277777777, Index: 6\n",
      "Min of data_d for Wind+Solar: 250.0863888888889, Index: 17\n",
      "Max of data_d for Wind+Solar: 298.629125, Index: 30\n"
     ]
    }
   ],
   "source": [
    "list_dataset = [data_y, data_m, data_d]\n",
    "string_dataset = ['data_y', 'data_m', 'data_d']\n",
    "for dataset_index, dataset in enumerate(list_dataset):\n",
    "    print('-'*80)\n",
    "    for column_index, column in enumerate(dataset.columns):\n",
    "        column_min = dataset[column].min()\n",
    "        index_min = dataset[column].idxmin()\n",
    "        column_max = dataset[column].max()\n",
    "        index_max = dataset[column].idxmax()\n",
    "        dataset_name = string_dataset[dataset_index]\n",
    "        column_name = dataset.columns[column_index]\n",
    "        print(f\"Min of {dataset_name} for {column_name}: {column_min}, Index: {index_min}\")\n",
    "        print(f\"Max of {dataset_name} for {column_name}: {column_max}, Index: {index_max}\")"
   ]
  },
  {
   "cell_type": "markdown",
   "metadata": {},
   "source": [
    "**1.13 (5 points)** For which month the average consumption is lowest, and for which one is the highest?"
   ]
  },
  {
   "cell_type": "code",
   "execution_count": 16,
   "metadata": {},
   "outputs": [
    {
     "name": "stdout",
     "output_type": "stream",
     "text": [
      "The month of August had the lowest average consumption of 1249.991327096774\n",
      "The month of February had the highest average consumption of 1452.4638407079644\n"
     ]
    }
   ],
   "source": [
    "import calendar\n",
    "avg_consumption_min = data_m['Consumption'].min()\n",
    "avg_consumption_min_month = calendar.month_name[data_m['Consumption'].idxmin()]\n",
    "avg_consumption_max = data_m['Consumption'].max()\n",
    "avg_consumption_max_month = calendar.month_name[data_m['Consumption'].idxmax()]\n",
    "print(f\"The month of {avg_consumption_min_month} had the lowest average consumption of {avg_consumption_min}\")\n",
    "print(f\"The month of {avg_consumption_max_month} had the highest average consumption of {avg_consumption_max}\")"
   ]
  }
 ],
 "metadata": {
  "kernelspec": {
   "display_name": "Python 3 (ipykernel)",
   "language": "python",
   "name": "python3"
  },
  "language_info": {
   "codemirror_mode": {
    "name": "ipython",
    "version": 3
   },
   "file_extension": ".py",
   "mimetype": "text/x-python",
   "name": "python",
   "nbconvert_exporter": "python",
   "pygments_lexer": "ipython3",
   "version": "3.9.7"
  }
 },
 "nbformat": 4,
 "nbformat_minor": 2
}
