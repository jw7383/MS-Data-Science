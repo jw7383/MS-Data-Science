{
 "cells": [
  {
   "cell_type": "markdown",
   "metadata": {},
   "source": [
    "--- \n",
    "\n",
    "### DSGA1007\n",
    "\n",
    "--- \n",
    "\n",
    "### HW05 \n",
    "\n",
    "### Due Date: Sunday 2021-11-14, 8PM\n",
    "\n",
    "\n",
    "#### Student Name: \n",
    "\n",
    "#### Student NetID: "
   ]
  },
  {
   "cell_type": "markdown",
   "metadata": {},
   "source": [
    "In this HW we continue the analysis of the data \"StudentsPerformance.csv\" presented in Lab08:\n",
    "\n",
    "``data is adapted from a dataset from kaggle:  \n",
    "https://www.kaggle.com/spscientist/students-performance-in-exams``\n",
    "\n",
    "The dataset \"StudentsPerformance.csv\" has been posted under Content for Lab08. Please download \"StudentsPerformance.csv\" from Brightspace."
   ]
  },
  {
   "cell_type": "markdown",
   "metadata": {},
   "source": [
    "**Problem 1.1 (Points 5)** \n",
    "\n",
    "Read the data by using `pandas`. "
   ]
  },
  {
   "cell_type": "markdown",
   "metadata": {},
   "source": [
    "**Problem 1.2 (Points 5)** \n",
    "\n",
    "Print first 10 rows of the data."
   ]
  },
  {
   "cell_type": "markdown",
   "metadata": {},
   "source": [
    "**Problem 1.3 (Points 5)**\n",
    "\n",
    "How many different groups are there in this data set?"
   ]
  },
  {
   "cell_type": "markdown",
   "metadata": {},
   "source": [
    "**Problem 1.4 (Points 5)**\n",
    "\n",
    "Print all different groups in this data set:"
   ]
  },
  {
   "cell_type": "markdown",
   "metadata": {},
   "source": [
    "**Problem 1.5 (Points 10)**\n",
    "\n",
    "For each group print the number of female and the number of male members: "
   ]
  },
  {
   "cell_type": "markdown",
   "metadata": {},
   "source": [
    "**Problem 1.6 (Points 10)**\n",
    "\n",
    "For each group print the percent of female and the percent of male members:"
   ]
  },
  {
   "cell_type": "markdown",
   "metadata": {},
   "source": [
    "**Problem 1.7 (Points 20)**\n",
    "\n",
    "For each of the groups plot the histogram over `math_score`. In your plots set number of bins to be `bins=50`\n",
    "Note: You can plot one figure per group."
   ]
  },
  {
   "cell_type": "markdown",
   "metadata": {},
   "source": [
    "**Problem 1.8 (Points 20)**\n",
    "\n",
    "\n",
    "Make three diagrams that present `2D` scatter plots, where the axes are taking the column values from the data set. So the three diagrams will have the following axes: \n",
    "    \n",
    "diag1: x=\"math score\", y=\"reading score\"\n",
    "\n",
    "diag2: x=\"math score\", y=\"writing score\"\n",
    "\n",
    "diag3: x=\"reading score\", y=\"writing score\"\n",
    "\n"
   ]
  },
  {
   "cell_type": "markdown",
   "metadata": {},
   "source": [
    "**Problem 1.9 (Points 20)**\n",
    "\n",
    "Normalize each of the three columns `math score`, `reading score`, `writing score` by subtracting its mean value and dividing by its standard deviation, and form three new columns: `math_score_norm`, `reading_score_norm`, `writing_score_norm`, respectively.\n",
    "\n",
    "Perform the same task the one above (1.8) on these newly formed columns.  \n"
   ]
  },
  {
   "cell_type": "code",
   "execution_count": null,
   "metadata": {},
   "outputs": [],
   "source": []
  }
 ],
 "metadata": {
  "kernelspec": {
   "display_name": "Python 3",
   "language": "python",
   "name": "python3"
  },
  "language_info": {
   "codemirror_mode": {
    "name": "ipython",
    "version": 3
   },
   "file_extension": ".py",
   "mimetype": "text/x-python",
   "name": "python",
   "nbconvert_exporter": "python",
   "pygments_lexer": "ipython3",
   "version": "3.7.7"
  }
 },
 "nbformat": 4,
 "nbformat_minor": 2
}
