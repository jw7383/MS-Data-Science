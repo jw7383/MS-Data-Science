{
 "cells": [
  {
   "cell_type": "markdown",
   "metadata": {},
   "source": [
    "--- \n",
    "\n",
    "### DSGA1007\n",
    "\n",
    "--- \n",
    "\n",
    "### HW01 \n",
    "### Due Date: 2021-09-24, 5PM"
   ]
  },
  {
   "cell_type": "markdown",
   "metadata": {},
   "source": [
    "Firstname:\n",
    "\n",
    "Lastname:\n",
    "\n",
    "E-mail:\n",
    "\n",
    "\n",
    "--- \n",
    "\n",
    "Enter your solutions below,  and submit this notebook"
   ]
  },
  {
   "cell_type": "markdown",
   "metadata": {},
   "source": [
    "### Problem 01 (25 points):\n",
    "\n",
    "Two given data sets \"ClassA.csv\" and \"ClassB.csv\" represent the number of points obtained by students at quizzes for two different classes A and B. \n",
    "\n",
    "So, every row in \"ClassA.csv\" represents points obtained by a student in class A. Similarly for the class B. \n",
    "\n",
    "Write a function which displays: \n",
    "\n",
    "- number of students for each A and B\n",
    "\n",
    "- number of quizzes for each class A and B\n",
    "\n",
    "\n",
    "- the average number of points for every student for each class A and B\n",
    "\n",
    "- the min number of points for every student for each class A and B\n",
    "\n",
    "- the max number of points for every student for each class A and B\n",
    "\n",
    "- the standard deviation of the number of points for every student for each class A and B\n",
    "\n",
    "\n",
    "- the average number of points over for every quiz for each class A and B\n",
    "\n",
    "- the min number of points over for every quiz for each class A and B\n",
    "\n",
    "- the max number of points over for every quiz for each class A and B\n",
    "\n",
    "- the standard deviation for the number of points over for every quiz for each class A and B\n",
    "\n",
    "\n",
    "\n",
    "\n",
    "\n",
    "\n"
   ]
  },
  {
   "cell_type": "code",
   "execution_count": 72,
   "metadata": {},
   "outputs": [
    {
     "name": "stdout",
     "output_type": "stream",
     "text": [
      "I printed\n",
      "I printed\n",
      "None\n"
     ]
    }
   ],
   "source": [
    "### Solution 01\n",
    "\n",
    "def examine_results(fileA, fileB):\n",
    "    pass\n",
    "\n",
    "def function_that_prints():\n",
    "    print(\"I printed\")\n",
    "\n",
    "def function_that_returns():\n",
    "    return \"I returned\"\n",
    "\n",
    "f1 = function_that_prints()\n",
    "print(function_that_prints())"
   ]
  },
  {
   "cell_type": "markdown",
   "metadata": {},
   "source": [
    "### Problem 02 (50 points)\n",
    "\n",
    "\n",
    "Create two random matrices of dimension 10 by 10: \n",
    "\n",
    "(5 points)\n",
    "a. $U$, where each entry is drawn independently from the uniform distribution on $[0, 1]$\n",
    "\n",
    "(5 points)\n",
    "b. $G$, where each entry is drawn independently from the normal (Gaussian) distribution with mean 0 and standard deviation 1.\n",
    "\n",
    "\n",
    "(30 points)\n",
    "- Write a function which for a given input matrix M outputs two vectors:\n",
    "\n",
    "avg_row, avg_col which are averages over rows and columns in the given matrix M\n",
    "\n",
    "\n",
    "```\n",
    "def matrix_avg(M):\n",
    "    return avg_row, avg_col\n",
    "``` \n",
    "\n",
    "- Write a function which for a given input matrix M outputs a matrix where each entry of M is squared; \n",
    "\n",
    "\n",
    "\n",
    "```\n",
    "def matrix_sq(M):\n",
    "    return M_sq\n",
    "``` \n",
    "\n",
    "\n",
    "- Write a function which for a given input matrix M outputs a matrix where each entry of M is raised at the power k:\n",
    "\n",
    "\n",
    "```\n",
    "def matrix_power(M, k):\n",
    "    return M_power\n",
    "``` \n",
    "   \n",
    "   \n",
    "- Report outputs of when `matrix_avg`, `matrix_sq` and `matrix_power` for `k=3` applied on both $U$ and $G$; \n",
    "there are 6 outputs.\n",
    "\n",
    "\n",
    "\n",
    "(10 points)\n",
    "\n",
    "Write a function which displays the output of the convolution: \n",
    "\n",
    "`matrix_avg(matrix_power(M, t))` when $t$ takes values from $t=1, 2, \\dots, 10$.\n",
    "\n",
    "\n",
    "```\n",
    "def matrix_powers_examine(M):\n",
    "    return\n",
    "``` \n",
    "      \n",
    "- Report output of the above on both $U$ and $G$. \n",
    "\n",
    "\n"
   ]
  },
  {
   "cell_type": "code",
   "execution_count": 62,
   "metadata": {},
   "outputs": [
    {
     "name": "stdout",
     "output_type": "stream",
     "text": [
      "t\n",
      "t\n",
      "t\n",
      "t\n",
      "t\n",
      "t\n",
      "t\n",
      "t\n",
      "t\n",
      "t\n",
      "None\n"
     ]
    }
   ],
   "source": [
    "### Solution 02 \n",
    "import numpy as np\n",
    "U = np.random.rand(10,10)\n",
    "G = np.random.randn(10,10)\n",
    "\n",
    "def matrix_avg(M):\n",
    "    avg_row = np.mean(M, axis = 1)\n",
    "    avg_col = np.mean(M, axis = 0)\n",
    "    return avg_row, avg_col\n",
    "\n",
    "def matrix_sq(M):\n",
    "    M_sq = np.square(M)\n",
    "    return M_sq\n",
    "\n",
    "def matrix_power(M,k):\n",
    "    M_power = np.power(M,k)\n",
    "    return M_power\n",
    "\n",
    "\n",
    "def matrix_powers_examine(M):\n",
    "    for t in range(1,11):\n",
    "       print('t')\n",
    "\n",
    "print(matrix_powers_examine(U))"
   ]
  },
  {
   "cell_type": "markdown",
   "metadata": {},
   "source": [
    "\n",
    "### Problem 03 (25 points)\n",
    "\n",
    "For the given text below, write a function which displays the text and returns a dictionary call it `char_counts`; where the dictionary maps all distinct characters of the text into the number of their occurrences in the given text. \n",
    "\n",
    "For example, `char_counts['A'] = 1` since `A` only appeared once in the word \"Avenue\".\n",
    "\n",
    "\n",
    "Finally, print the obtained dictionary `char_counts` and its length. \n",
    "\n"
   ]
  },
  {
   "cell_type": "code",
   "execution_count": 73,
   "metadata": {},
   "outputs": [],
   "source": [
    "text = \"The Center for Data Science (CDS) is the focal point for New York University’s university-wide efforts in Data Science. The Center was established in 2013 to advance NYU’s goal of creating a world-leading Data Science training and research facility, and arming researchers and professionals with the tools to harness the power of Big Data. Today, CDS counts 16 jointly appointed interdisciplinary faculty housed on two floors of our magnificent 60 5th Avenue building, one of New York City’s historic properties. It is home to a top-ranked MS in Data Science program, one of the first PhD programs in Data Science, and a new undergraduate program in Data Science, as well as a lively Fellow and Postdoctoral program. It has over 60 associate and affiliate faculty from 25 departments in 9 schools and units. With cross-disciplinary research and innovative educational programs, CDS is shaping the new field of Data Science.\""
   ]
  },
  {
   "cell_type": "code",
   "execution_count": 90,
   "metadata": {},
   "outputs": [
    {
     "ename": "KeyError",
     "evalue": "'T'",
     "output_type": "error",
     "traceback": [
      "\u001b[1;31m---------------------------------------------------------------------------\u001b[0m",
      "\u001b[1;31mKeyError\u001b[0m                                  Traceback (most recent call last)",
      "\u001b[1;32m~\\AppData\\Local\\Temp/ipykernel_7308/3259457232.py\u001b[0m in \u001b[0;36m<module>\u001b[1;34m\u001b[0m\n\u001b[0;32m      2\u001b[0m \u001b[1;33m\u001b[0m\u001b[0m\n\u001b[0;32m      3\u001b[0m \u001b[0mchar\u001b[0m \u001b[1;33m=\u001b[0m \u001b[1;33m{\u001b[0m\u001b[1;33m}\u001b[0m\u001b[1;33m\u001b[0m\u001b[1;33m\u001b[0m\u001b[0m\n\u001b[1;32m----> 4\u001b[1;33m \u001b[0mchar\u001b[0m\u001b[1;33m[\u001b[0m\u001b[1;34m'T'\u001b[0m\u001b[1;33m]\u001b[0m \u001b[1;33m+=\u001b[0m \u001b[1;36m1\u001b[0m\u001b[1;33m\u001b[0m\u001b[1;33m\u001b[0m\u001b[0m\n\u001b[0m\u001b[0;32m      5\u001b[0m \u001b[0mprint\u001b[0m\u001b[1;33m(\u001b[0m\u001b[0mchar\u001b[0m\u001b[1;33m)\u001b[0m\u001b[1;33m\u001b[0m\u001b[1;33m\u001b[0m\u001b[0m\n\u001b[0;32m      6\u001b[0m \u001b[1;33m\u001b[0m\u001b[0m\n",
      "\u001b[1;31mKeyError\u001b[0m: 'T'"
     ]
    }
   ],
   "source": [
    "### Solution 03 \n",
    "\n",
    "char = {}\n",
    "char['T'] += 1\n",
    "print(char)\n",
    "    \n",
    "           \n"
   ]
  }
 ],
 "metadata": {
  "kernelspec": {
   "display_name": "Python 3 (ipykernel)",
   "language": "python",
   "name": "python3"
  },
  "language_info": {
   "codemirror_mode": {
    "name": "ipython",
    "version": 3
   },
   "file_extension": ".py",
   "mimetype": "text/x-python",
   "name": "python",
   "nbconvert_exporter": "python",
   "pygments_lexer": "ipython3",
   "version": "3.9.7"
  }
 },
 "nbformat": 4,
 "nbformat_minor": 2
}
