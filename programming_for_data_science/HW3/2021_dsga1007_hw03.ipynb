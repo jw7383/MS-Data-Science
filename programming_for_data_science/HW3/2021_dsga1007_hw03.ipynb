{
 "cells": [
  {
   "cell_type": "markdown",
   "metadata": {
    "slideshow": {
     "slide_type": "-"
    }
   },
   "source": [
    "--- \n",
    "\n",
    "### DSGA1007\n",
    "\n",
    "--- \n",
    "\n",
    "### HW03 \n",
    "\n",
    "### Due Date: Sunday 2021-10-17, 8PM"
   ]
  },
  {
   "cell_type": "markdown",
   "metadata": {},
   "source": [
    "---"
   ]
  },
  {
   "cell_type": "markdown",
   "metadata": {},
   "source": [
    "### Problem 01 (20 points)\n",
    "\n",
    "(10 points) Plot in the same diagram the functions: $1, x, x^2, x^3, \\dots, x^{10}$ over the following set of points $\\{0, 0.01, 0.02, \\dots, 1\\}$, that is, over 101 equidistant points from the interval $[0, 1]$. \n",
    "\n",
    "\n",
    "(10 points) Plot in the same diagram the functions:f $1, x, x^{1/2}, x^{1/3}, \\dots, x^{1/10}$ over the following set of points $\\{0, 0.01, 0.02, \\dots, 1\\}$, that is, over 101 equidistant points from the interval $[0, 1]$. \n",
    "\n",
    "\n"
   ]
  },
  {
   "cell_type": "markdown",
   "metadata": {},
   "source": [
    "### Problem 02 (50 points)\n",
    "\n",
    "In this problem we examine the beta distribution, characterized by two parameters $a$ and $b$, over all possible pairs $a, b \\in \\{0.5, 1, 2.0, 5.0\\}$. Note that there are 16 such pairs.\n",
    "  \n",
    "More on the beta distribution one can find at: \n",
    "https://en.wikipedia.org/wiki/Beta_distribution\n",
    "\n",
    "\n",
    "Your task is that for every pair of these 16 pairs of $(a, b)$:\n",
    "\n",
    "1. (20 points) To generate a random vector obtained by the beta distribution $B(a, b)$ of size `n_size = 100_000`. You can use the following function: \n",
    "https://numpy.org/doc/stable/reference/random/generated/numpy.random.beta.html\n",
    "    \n",
    "2. (30 points) And for this random vector, to plot **as a subplot** the corresponding histogram with the number of bins `n_bins = 50`.\n",
    "\n",
    "\n",
    "\n",
    "Important Note: your solution should produce only one figure with $4 \\times 4$ subplots (i.e. 4 subplots in each row and 4 in each column).\n",
    "\n",
    "Other Note: \"100_000\" is a convenience notation for \"100000\"\n",
    "    "
   ]
  },
  {
   "cell_type": "markdown",
   "metadata": {},
   "source": [
    "### Problem 03 (30 Points)\n",
    "\n",
    "\n",
    "1. (10 points) Generate independently and uniformly at random `number_of_points = 100` points within a unit square $[0, 1]^2$.\n",
    "\n",
    "(Hint, a point $(x, y)$ is random within the unit square if both of its coordinates $x$ and $y$ are uniformly and randomly generated from the interval $[0, 1]$.)\n",
    "\n",
    "\n",
    "\n",
    "2. (10 points) Perform a scattered plot of these points.  \n",
    "\n",
    "\n",
    "\n",
    "3. Print: the min, max, average, std:\n",
    "\n",
    "(5 points) calculated over $x$-coordinates,    \n",
    "\n",
    "(5 points) calculated over $y$-coordinates.   "
   ]
  }
 ],
 "metadata": {
  "kernelspec": {
   "display_name": "Python 3",
   "language": "python",
   "name": "python3"
  },
  "language_info": {
   "codemirror_mode": {
    "name": "ipython",
    "version": 3
   },
   "file_extension": ".py",
   "mimetype": "text/x-python",
   "name": "python",
   "nbconvert_exporter": "python",
   "pygments_lexer": "ipython3",
   "version": "3.7.7"
  }
 },
 "nbformat": 4,
 "nbformat_minor": 2
}
